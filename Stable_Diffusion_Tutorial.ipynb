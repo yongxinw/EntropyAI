{
  "cells": [
    {
      "cell_type": "markdown",
      "metadata": {
        "id": "tFwwU790RrGI"
      },
      "source": [
        "# Demo - Build Stable Diffusion from source with Google Colab\n",
        "\n",
        "In this demo, we are going to show how to use a github repository like [Stable Diffusion](https://github.com/CompVis/stable-diffusion) with Google Colab. By the end of this tutorial, you will learn how to generate your own synthetic images with stable diffusion 2.1."
      ]
    },
    {
      "cell_type": "markdown",
      "metadata": {
        "id": "5hkl-qqXR6Hw"
      },
      "source": [
        "## Step 1. Clone the repository"
      ]
    },
    {
      "cell_type": "markdown",
      "metadata": {
        "id": "npvEFgYVSYek"
      },
      "source": [
        "Google Colab allows executing command line instructions by adding a \"!\" symbol before the command. For example, \"!ls ./~\" will list the folders and files under the current working directory."
      ]
    },
    {
      "cell_type": "code",
      "execution_count": 5,
      "metadata": {
        "colab": {
          "base_uri": "https://localhost:8080/"
        },
        "id": "bX4bxVAmTDtN",
        "outputId": "07b8557d-fd5c-46d3-cee6-116ffdded5d9"
      },
      "outputs": [
        {
          "output_type": "stream",
          "name": "stdout",
          "text": [
            "assets\t     environment.yaml  modelcard.md\t scripts\n",
            "checkpoints  ldm\t       outputs\t\t setup.py\n",
            "configs      LICENSE\t       README.md\t stable_diffusion.egg-info\n",
            "doc\t     LICENSE-MODEL     requirements.txt  v2-1_768-ema-pruned.ckpt\n"
          ]
        }
      ],
      "source": [
        "!ls ./"
      ]
    },
    {
      "cell_type": "markdown",
      "metadata": {
        "id": "aLzkKwucV_0L"
      },
      "source": [
        "To clone a repository means to get a copy of the stable diffusion source code. This is the most original version of stable diffusion. We get the copy by executing the following commands."
      ]
    },
    {
      "cell_type": "code",
      "execution_count": 6,
      "metadata": {
        "colab": {
          "base_uri": "https://localhost:8080/"
        },
        "id": "yFj2K10FPQPt",
        "outputId": "4d8fa074-1ba8-4f84-df08-ef98fdf9cb9e"
      },
      "outputs": [
        {
          "output_type": "stream",
          "name": "stdout",
          "text": [
            "Cloning into 'stablediffusion'...\n",
            "remote: Enumerating objects: 574, done.\u001b[K\n",
            "remote: Counting objects: 100% (304/304), done.\u001b[K\n",
            "remote: Compressing objects: 100% (86/86), done.\u001b[K\n",
            "remote: Total 574 (delta 244), reused 218 (delta 218), pack-reused 270\u001b[K\n",
            "Receiving objects: 100% (574/574), 73.43 MiB | 36.20 MiB/s, done.\n",
            "Resolving deltas: 100% (276/276), done.\n"
          ]
        }
      ],
      "source": [
        "!git clone https://github.com/Stability-AI/stablediffusion.git"
      ]
    },
    {
      "cell_type": "code",
      "execution_count": 7,
      "metadata": {
        "colab": {
          "base_uri": "https://localhost:8080/"
        },
        "id": "8tnR3_YdSV70",
        "outputId": "919e6e31-b879-4a74-a9dc-3c6b45162d14"
      },
      "outputs": [
        {
          "output_type": "stream",
          "name": "stdout",
          "text": [
            "/content/stablediffusion/stablediffusion\n"
          ]
        }
      ],
      "source": [
        "%cd stablediffusion/"
      ]
    },
    {
      "cell_type": "markdown",
      "metadata": {
        "id": "kGfVA4kmVb0j"
      },
      "source": [
        "## Step 2. Install all the library dependencies\n",
        "Library dependencies are the tools and codes that the stable diffusion repository is built upon. The successful execution of the stable diffusion depends on the installation of the library denpendencies. We install all of them with the following commands."
      ]
    },
    {
      "cell_type": "code",
      "execution_count": 3,
      "metadata": {
        "colab": {
          "base_uri": "https://localhost:8080/",
          "height": 1000
        },
        "id": "XkyxjyBpTHpt",
        "outputId": "763f8690-4b7f-4088-d08f-a19fa65fdb77"
      },
      "outputs": [
        {
          "output_type": "stream",
          "name": "stdout",
          "text": [
            "Obtaining file:///content/stablediffusion (from -r requirements.txt (line 19))\n",
            "  Preparing metadata (setup.py) ... \u001b[?25l\u001b[?25hdone\n",
            "Collecting albumentations==0.4.3 (from -r requirements.txt (line 1))\n",
            "  Downloading albumentations-0.4.3.tar.gz (3.2 MB)\n",
            "\u001b[2K     \u001b[90m━━━━━━━━━━━━━━━━━━━━━━━━━━━━━━━━━━━━━━━━\u001b[0m \u001b[32m3.2/3.2 MB\u001b[0m \u001b[31m25.6 MB/s\u001b[0m eta \u001b[36m0:00:00\u001b[0m\n",
            "\u001b[?25h  Preparing metadata (setup.py) ... \u001b[?25l\u001b[?25hdone\n",
            "Requirement already satisfied: opencv-python in /usr/local/lib/python3.10/dist-packages (from -r requirements.txt (line 2)) (4.7.0.72)\n",
            "Collecting pudb==2019.2 (from -r requirements.txt (line 3))\n",
            "  Downloading pudb-2019.2.tar.gz (59 kB)\n",
            "\u001b[2K     \u001b[90m━━━━━━━━━━━━━━━━━━━━━━━━━━━━━━━━━━━━━━━━\u001b[0m \u001b[32m59.5/59.5 kB\u001b[0m \u001b[31m8.0 MB/s\u001b[0m eta \u001b[36m0:00:00\u001b[0m\n",
            "\u001b[?25h  Preparing metadata (setup.py) ... \u001b[?25l\u001b[?25hdone\n",
            "Collecting imageio==2.9.0 (from -r requirements.txt (line 4))\n",
            "  Downloading imageio-2.9.0-py3-none-any.whl (3.3 MB)\n",
            "\u001b[2K     \u001b[90m━━━━━━━━━━━━━━━━━━━━━━━━━━━━━━━━━━━━━━━━\u001b[0m \u001b[32m3.3/3.3 MB\u001b[0m \u001b[31m29.4 MB/s\u001b[0m eta \u001b[36m0:00:00\u001b[0m\n",
            "\u001b[?25hCollecting imageio-ffmpeg==0.4.2 (from -r requirements.txt (line 5))\n",
            "  Downloading imageio_ffmpeg-0.4.2-py3-none-manylinux2010_x86_64.whl (26.9 MB)\n",
            "\u001b[2K     \u001b[90m━━━━━━━━━━━━━━━━━━━━━━━━━━━━━━━━━━━━━━━━\u001b[0m \u001b[32m26.9/26.9 MB\u001b[0m \u001b[31m42.8 MB/s\u001b[0m eta \u001b[36m0:00:00\u001b[0m\n",
            "\u001b[?25hCollecting pytorch-lightning==1.4.2 (from -r requirements.txt (line 6))\n",
            "  Downloading pytorch_lightning-1.4.2-py3-none-any.whl (916 kB)\n",
            "\u001b[2K     \u001b[90m━━━━━━━━━━━━━━━━━━━━━━━━━━━━━━━━━━━━━━\u001b[0m \u001b[32m916.6/916.6 kB\u001b[0m \u001b[31m57.5 MB/s\u001b[0m eta \u001b[36m0:00:00\u001b[0m\n",
            "\u001b[?25hCollecting torchmetrics==0.6 (from -r requirements.txt (line 7))\n",
            "  Downloading torchmetrics-0.6.0-py3-none-any.whl (329 kB)\n",
            "\u001b[2K     \u001b[90m━━━━━━━━━━━━━━━━━━━━━━━━━━━━━━━━━━━━━━\u001b[0m \u001b[32m329.4/329.4 kB\u001b[0m \u001b[31m39.1 MB/s\u001b[0m eta \u001b[36m0:00:00\u001b[0m\n",
            "\u001b[?25hCollecting omegaconf==2.1.1 (from -r requirements.txt (line 8))\n",
            "  Downloading omegaconf-2.1.1-py3-none-any.whl (74 kB)\n",
            "\u001b[2K     \u001b[90m━━━━━━━━━━━━━━━━━━━━━━━━━━━━━━━━━━━━━━━━\u001b[0m \u001b[32m74.7/74.7 kB\u001b[0m \u001b[31m9.8 MB/s\u001b[0m eta \u001b[36m0:00:00\u001b[0m\n",
            "\u001b[?25hCollecting test-tube>=0.7.5 (from -r requirements.txt (line 9))\n",
            "  Downloading test_tube-0.7.5.tar.gz (21 kB)\n",
            "  Preparing metadata (setup.py) ... \u001b[?25l\u001b[?25hdone\n",
            "Collecting streamlit>=0.73.1 (from -r requirements.txt (line 10))\n",
            "  Downloading streamlit-1.25.0-py2.py3-none-any.whl (8.1 MB)\n",
            "\u001b[2K     \u001b[90m━━━━━━━━━━━━━━━━━━━━━━━━━━━━━━━━━━━━━━━━\u001b[0m \u001b[32m8.1/8.1 MB\u001b[0m \u001b[31m61.3 MB/s\u001b[0m eta \u001b[36m0:00:00\u001b[0m\n",
            "\u001b[?25hCollecting einops==0.3.0 (from -r requirements.txt (line 11))\n",
            "  Downloading einops-0.3.0-py2.py3-none-any.whl (25 kB)\n",
            "Collecting transformers==4.19.2 (from -r requirements.txt (line 12))\n",
            "  Downloading transformers-4.19.2-py3-none-any.whl (4.2 MB)\n",
            "\u001b[2K     \u001b[90m━━━━━━━━━━━━━━━━━━━━━━━━━━━━━━━━━━━━━━━━\u001b[0m \u001b[32m4.2/4.2 MB\u001b[0m \u001b[31m104.2 MB/s\u001b[0m eta \u001b[36m0:00:00\u001b[0m\n",
            "\u001b[?25hCollecting webdataset==0.2.5 (from -r requirements.txt (line 13))\n",
            "  Downloading webdataset-0.2.5-py3-none-any.whl (46 kB)\n",
            "\u001b[2K     \u001b[90m━━━━━━━━━━━━━━━━━━━━━━━━━━━━━━━━━━━━━━━━\u001b[0m \u001b[32m46.9/46.9 kB\u001b[0m \u001b[31m5.8 MB/s\u001b[0m eta \u001b[36m0:00:00\u001b[0m\n",
            "\u001b[?25hCollecting open-clip-torch==2.7.0 (from -r requirements.txt (line 14))\n",
            "  Downloading open_clip_torch-2.7.0-py3-none-any.whl (1.4 MB)\n",
            "\u001b[2K     \u001b[90m━━━━━━━━━━━━━━━━━━━━━━━━━━━━━━━━━━━━━━━━\u001b[0m \u001b[32m1.4/1.4 MB\u001b[0m \u001b[31m64.9 MB/s\u001b[0m eta \u001b[36m0:00:00\u001b[0m\n",
            "\u001b[?25hCollecting gradio==3.13.2 (from -r requirements.txt (line 15))\n",
            "  Downloading gradio-3.13.2-py3-none-any.whl (13.8 MB)\n",
            "\u001b[2K     \u001b[90m━━━━━━━━━━━━━━━━━━━━━━━━━━━━━━━━━━━━━━━━\u001b[0m \u001b[32m13.8/13.8 MB\u001b[0m \u001b[31m53.1 MB/s\u001b[0m eta \u001b[36m0:00:00\u001b[0m\n",
            "\u001b[?25hCollecting kornia==0.6 (from -r requirements.txt (line 16))\n",
            "  Downloading kornia-0.6.0-py2.py3-none-any.whl (367 kB)\n",
            "\u001b[2K     \u001b[90m━━━━━━━━━━━━━━━━━━━━━━━━━━━━━━━━━━━━━━\u001b[0m \u001b[32m367.1/367.1 kB\u001b[0m \u001b[31m41.6 MB/s\u001b[0m eta \u001b[36m0:00:00\u001b[0m\n",
            "\u001b[?25hCollecting invisible-watermark>=0.1.5 (from -r requirements.txt (line 17))\n",
            "  Downloading invisible_watermark-0.2.0-py3-none-any.whl (1.6 MB)\n",
            "\u001b[2K     \u001b[90m━━━━━━━━━━━━━━━━━━━━━━━━━━━━━━━━━━━━━━━━\u001b[0m \u001b[32m1.6/1.6 MB\u001b[0m \u001b[31m75.8 MB/s\u001b[0m eta \u001b[36m0:00:00\u001b[0m\n",
            "\u001b[?25hCollecting streamlit-drawable-canvas==0.8.0 (from -r requirements.txt (line 18))\n",
            "  Downloading streamlit_drawable_canvas-0.8.0-py3-none-any.whl (1.3 MB)\n",
            "\u001b[2K     \u001b[90m━━━━━━━━━━━━━━━━━━━━━━━━━━━━━━━━━━━━━━━━\u001b[0m \u001b[32m1.3/1.3 MB\u001b[0m \u001b[31m32.9 MB/s\u001b[0m eta \u001b[36m0:00:00\u001b[0m\n",
            "\u001b[?25hRequirement already satisfied: numpy>=1.11.1 in /usr/local/lib/python3.10/dist-packages (from albumentations==0.4.3->-r requirements.txt (line 1)) (1.22.4)\n",
            "Requirement already satisfied: scipy in /usr/local/lib/python3.10/dist-packages (from albumentations==0.4.3->-r requirements.txt (line 1)) (1.10.1)\n",
            "Collecting imgaug<0.2.7,>=0.2.5 (from albumentations==0.4.3->-r requirements.txt (line 1))\n",
            "  Downloading imgaug-0.2.6.tar.gz (631 kB)\n",
            "\u001b[2K     \u001b[90m━━━━━━━━━━━━━━━━━━━━━━━━━━━━━━━━━━━━━━\u001b[0m \u001b[32m631.4/631.4 kB\u001b[0m \u001b[31m62.6 MB/s\u001b[0m eta \u001b[36m0:00:00\u001b[0m\n",
            "\u001b[?25h  Preparing metadata (setup.py) ... \u001b[?25l\u001b[?25hdone\n",
            "Requirement already satisfied: PyYAML in /usr/local/lib/python3.10/dist-packages (from albumentations==0.4.3->-r requirements.txt (line 1)) (6.0.1)\n",
            "Collecting urwid>=1.1.1 (from pudb==2019.2->-r requirements.txt (line 3))\n",
            "  Downloading urwid-2.1.2.tar.gz (634 kB)\n",
            "\u001b[2K     \u001b[90m━━━━━━━━━━━━━━━━━━━━━━━━━━━━━━━━━━━━━━\u001b[0m \u001b[32m634.6/634.6 kB\u001b[0m \u001b[31m55.7 MB/s\u001b[0m eta \u001b[36m0:00:00\u001b[0m\n",
            "\u001b[?25h  Preparing metadata (setup.py) ... \u001b[?25l\u001b[?25hdone\n",
            "Requirement already satisfied: pygments>=1.0 in /usr/local/lib/python3.10/dist-packages (from pudb==2019.2->-r requirements.txt (line 3)) (2.14.0)\n",
            "Requirement already satisfied: pillow in /usr/local/lib/python3.10/dist-packages (from imageio==2.9.0->-r requirements.txt (line 4)) (8.4.0)\n",
            "Requirement already satisfied: torch>=1.6 in /usr/local/lib/python3.10/dist-packages (from pytorch-lightning==1.4.2->-r requirements.txt (line 6)) (2.0.1+cu118)\n",
            "Requirement already satisfied: future>=0.17.1 in /usr/local/lib/python3.10/dist-packages (from pytorch-lightning==1.4.2->-r requirements.txt (line 6)) (0.18.3)\n",
            "Requirement already satisfied: tqdm>=4.41.0 in /usr/local/lib/python3.10/dist-packages (from pytorch-lightning==1.4.2->-r requirements.txt (line 6)) (4.65.0)\n",
            "Requirement already satisfied: fsspec[http]!=2021.06.0,>=2021.05.0 in /usr/local/lib/python3.10/dist-packages (from pytorch-lightning==1.4.2->-r requirements.txt (line 6)) (2023.6.0)\n",
            "Requirement already satisfied: tensorboard>=2.2.0 in /usr/local/lib/python3.10/dist-packages (from pytorch-lightning==1.4.2->-r requirements.txt (line 6)) (2.12.3)\n",
            "Collecting pyDeprecate==0.3.1 (from pytorch-lightning==1.4.2->-r requirements.txt (line 6))\n",
            "  Downloading pyDeprecate-0.3.1-py3-none-any.whl (10 kB)\n",
            "Requirement already satisfied: packaging>=17.0 in /usr/local/lib/python3.10/dist-packages (from pytorch-lightning==1.4.2->-r requirements.txt (line 6)) (23.1)\n",
            "Requirement already satisfied: typing-extensions in /usr/local/lib/python3.10/dist-packages (from pytorch-lightning==1.4.2->-r requirements.txt (line 6)) (4.7.1)\n",
            "Collecting antlr4-python3-runtime==4.8 (from omegaconf==2.1.1->-r requirements.txt (line 8))\n",
            "  Downloading antlr4-python3-runtime-4.8.tar.gz (112 kB)\n",
            "\u001b[2K     \u001b[90m━━━━━━━━━━━━━━━━━━━━━━━━━━━━━━━━━━━━━━\u001b[0m \u001b[32m112.4/112.4 kB\u001b[0m \u001b[31m15.6 MB/s\u001b[0m eta \u001b[36m0:00:00\u001b[0m\n",
            "\u001b[?25h  Preparing metadata (setup.py) ... \u001b[?25l\u001b[?25hdone\n",
            "Requirement already satisfied: filelock in /usr/local/lib/python3.10/dist-packages (from transformers==4.19.2->-r requirements.txt (line 12)) (3.12.2)\n",
            "Collecting huggingface-hub<1.0,>=0.1.0 (from transformers==4.19.2->-r requirements.txt (line 12))\n",
            "  Downloading huggingface_hub-0.16.4-py3-none-any.whl (268 kB)\n",
            "\u001b[2K     \u001b[90m━━━━━━━━━━━━━━━━━━━━━━━━━━━━━━━━━━━━━━\u001b[0m \u001b[32m268.8/268.8 kB\u001b[0m \u001b[31m33.7 MB/s\u001b[0m eta \u001b[36m0:00:00\u001b[0m\n",
            "\u001b[?25hRequirement already satisfied: regex!=2019.12.17 in /usr/local/lib/python3.10/dist-packages (from transformers==4.19.2->-r requirements.txt (line 12)) (2022.10.31)\n",
            "Requirement already satisfied: requests in /usr/local/lib/python3.10/dist-packages (from transformers==4.19.2->-r requirements.txt (line 12)) (2.27.1)\n",
            "Collecting tokenizers!=0.11.3,<0.13,>=0.11.1 (from transformers==4.19.2->-r requirements.txt (line 12))\n",
            "  Downloading tokenizers-0.12.1-cp310-cp310-manylinux_2_12_x86_64.manylinux2010_x86_64.whl (6.6 MB)\n",
            "\u001b[2K     \u001b[90m━━━━━━━━━━━━━━━━━━━━━━━━━━━━━━━━━━━━━━━━\u001b[0m \u001b[32m6.6/6.6 MB\u001b[0m \u001b[31m62.7 MB/s\u001b[0m eta \u001b[36m0:00:00\u001b[0m\n",
            "\u001b[?25hCollecting braceexpand (from webdataset==0.2.5->-r requirements.txt (line 13))\n",
            "  Downloading braceexpand-0.1.7-py2.py3-none-any.whl (5.9 kB)\n",
            "Requirement already satisfied: torchvision in /usr/local/lib/python3.10/dist-packages (from open-clip-torch==2.7.0->-r requirements.txt (line 14)) (0.15.2+cu118)\n",
            "Collecting ftfy (from open-clip-torch==2.7.0->-r requirements.txt (line 14))\n",
            "  Downloading ftfy-6.1.1-py3-none-any.whl (53 kB)\n",
            "\u001b[2K     \u001b[90m━━━━━━━━━━━━━━━━━━━━━━━━━━━━━━━━━━━━━━━━\u001b[0m \u001b[32m53.1/53.1 kB\u001b[0m \u001b[31m7.2 MB/s\u001b[0m eta \u001b[36m0:00:00\u001b[0m\n",
            "\u001b[?25hRequirement already satisfied: aiohttp in /usr/local/lib/python3.10/dist-packages (from gradio==3.13.2->-r requirements.txt (line 15)) (3.8.4)\n",
            "Requirement already satisfied: altair in /usr/local/lib/python3.10/dist-packages (from gradio==3.13.2->-r requirements.txt (line 15)) (4.2.2)\n",
            "Collecting fastapi (from gradio==3.13.2->-r requirements.txt (line 15))\n",
            "  Downloading fastapi-0.100.0-py3-none-any.whl (65 kB)\n",
            "\u001b[2K     \u001b[90m━━━━━━━━━━━━━━━━━━━━━━━━━━━━━━━━━━━━━━━━\u001b[0m \u001b[32m65.7/65.7 kB\u001b[0m \u001b[31m8.9 MB/s\u001b[0m eta \u001b[36m0:00:00\u001b[0m\n",
            "\u001b[?25hCollecting ffmpy (from gradio==3.13.2->-r requirements.txt (line 15))\n",
            "  Downloading ffmpy-0.3.1.tar.gz (5.5 kB)\n",
            "  Preparing metadata (setup.py) ... \u001b[?25l\u001b[?25hdone\n",
            "Collecting httpx (from gradio==3.13.2->-r requirements.txt (line 15))\n",
            "  Downloading httpx-0.24.1-py3-none-any.whl (75 kB)\n",
            "\u001b[2K     \u001b[90m━━━━━━━━━━━━━━━━━━━━━━━━━━━━━━━━━━━━━━━━\u001b[0m \u001b[32m75.4/75.4 kB\u001b[0m \u001b[31m10.0 MB/s\u001b[0m eta \u001b[36m0:00:00\u001b[0m\n",
            "\u001b[?25hRequirement already satisfied: jinja2 in /usr/local/lib/python3.10/dist-packages (from gradio==3.13.2->-r requirements.txt (line 15)) (3.1.2)\n",
            "Requirement already satisfied: markdown-it-py[linkify,plugins] in /usr/local/lib/python3.10/dist-packages (from gradio==3.13.2->-r requirements.txt (line 15)) (3.0.0)\n",
            "Requirement already satisfied: markupsafe in /usr/local/lib/python3.10/dist-packages (from gradio==3.13.2->-r requirements.txt (line 15)) (2.1.3)\n",
            "Requirement already satisfied: matplotlib in /usr/local/lib/python3.10/dist-packages (from gradio==3.13.2->-r requirements.txt (line 15)) (3.7.1)\n",
            "Collecting orjson (from gradio==3.13.2->-r requirements.txt (line 15))\n",
            "  Downloading orjson-3.9.2-cp310-cp310-manylinux_2_17_x86_64.manylinux2014_x86_64.whl (138 kB)\n",
            "\u001b[2K     \u001b[90m━━━━━━━━━━━━━━━━━━━━━━━━━━━━━━━━━━━━━━\u001b[0m \u001b[32m138.7/138.7 kB\u001b[0m \u001b[31m17.4 MB/s\u001b[0m eta \u001b[36m0:00:00\u001b[0m\n",
            "\u001b[?25hRequirement already satisfied: pandas in /usr/local/lib/python3.10/dist-packages (from gradio==3.13.2->-r requirements.txt (line 15)) (1.5.3)\n",
            "Collecting pycryptodome (from gradio==3.13.2->-r requirements.txt (line 15))\n",
            "  Downloading pycryptodome-3.18.0-cp35-abi3-manylinux_2_17_x86_64.manylinux2014_x86_64.whl (2.1 MB)\n",
            "\u001b[2K     \u001b[90m━━━━━━━━━━━━━━━━━━━━━━━━━━━━━━━━━━━━━━━━\u001b[0m \u001b[32m2.1/2.1 MB\u001b[0m \u001b[31m74.1 MB/s\u001b[0m eta \u001b[36m0:00:00\u001b[0m\n",
            "\u001b[?25hRequirement already satisfied: pydantic in /usr/local/lib/python3.10/dist-packages (from gradio==3.13.2->-r requirements.txt (line 15)) (1.10.11)\n",
            "Collecting pydub (from gradio==3.13.2->-r requirements.txt (line 15))\n",
            "  Downloading pydub-0.25.1-py2.py3-none-any.whl (32 kB)\n",
            "Collecting python-multipart (from gradio==3.13.2->-r requirements.txt (line 15))\n",
            "  Downloading python_multipart-0.0.6-py3-none-any.whl (45 kB)\n",
            "\u001b[2K     \u001b[90m━━━━━━━━━━━━━━━━━━━━━━━━━━━━━━━━━━━━━━━━\u001b[0m \u001b[32m45.7/45.7 kB\u001b[0m \u001b[31m6.4 MB/s\u001b[0m eta \u001b[36m0:00:00\u001b[0m\n",
            "\u001b[?25hCollecting uvicorn (from gradio==3.13.2->-r requirements.txt (line 15))\n",
            "  Downloading uvicorn-0.23.1-py3-none-any.whl (59 kB)\n",
            "\u001b[2K     \u001b[90m━━━━━━━━━━━━━━━━━━━━━━━━━━━━━━━━━━━━━━━━\u001b[0m \u001b[32m59.5/59.5 kB\u001b[0m \u001b[31m8.7 MB/s\u001b[0m eta \u001b[36m0:00:00\u001b[0m\n",
            "\u001b[?25hCollecting websockets>=10.0 (from gradio==3.13.2->-r requirements.txt (line 15))\n",
            "  Downloading websockets-11.0.3-cp310-cp310-manylinux_2_5_x86_64.manylinux1_x86_64.manylinux_2_17_x86_64.manylinux2014_x86_64.whl (129 kB)\n",
            "\u001b[2K     \u001b[90m━━━━━━━━━━━━━━━━━━━━━━━━━━━━━━━━━━━━━━\u001b[0m \u001b[32m129.9/129.9 kB\u001b[0m \u001b[31m18.3 MB/s\u001b[0m eta \u001b[36m0:00:00\u001b[0m\n",
            "\u001b[?25hRequirement already satisfied: blinker<2,>=1.0.0 in /usr/lib/python3/dist-packages (from streamlit>=0.73.1->-r requirements.txt (line 10)) (1.4)\n",
            "Requirement already satisfied: cachetools<6,>=4.0 in /usr/local/lib/python3.10/dist-packages (from streamlit>=0.73.1->-r requirements.txt (line 10)) (5.3.1)\n",
            "Requirement already satisfied: click<9,>=7.0 in /usr/local/lib/python3.10/dist-packages (from streamlit>=0.73.1->-r requirements.txt (line 10)) (8.1.6)\n",
            "Requirement already satisfied: importlib-metadata<7,>=1.4 in /usr/lib/python3/dist-packages (from streamlit>=0.73.1->-r requirements.txt (line 10)) (4.6.4)\n",
            "Requirement already satisfied: protobuf<5,>=3.20 in /usr/local/lib/python3.10/dist-packages (from streamlit>=0.73.1->-r requirements.txt (line 10)) (3.20.3)\n",
            "Requirement already satisfied: pyarrow>=6.0 in /usr/local/lib/python3.10/dist-packages (from streamlit>=0.73.1->-r requirements.txt (line 10)) (9.0.0)\n",
            "Collecting pympler<2,>=0.9 (from streamlit>=0.73.1->-r requirements.txt (line 10))\n",
            "  Downloading Pympler-1.0.1-py3-none-any.whl (164 kB)\n",
            "\u001b[2K     \u001b[90m━━━━━━━━━━━━━━━━━━━━━━━━━━━━━━━━━━━━━━\u001b[0m \u001b[32m164.8/164.8 kB\u001b[0m \u001b[31m21.7 MB/s\u001b[0m eta \u001b[36m0:00:00\u001b[0m\n",
            "\u001b[?25hRequirement already satisfied: python-dateutil<3,>=2.7.3 in /usr/local/lib/python3.10/dist-packages (from streamlit>=0.73.1->-r requirements.txt (line 10)) (2.8.2)\n",
            "Requirement already satisfied: rich<14,>=10.14.0 in /usr/local/lib/python3.10/dist-packages (from streamlit>=0.73.1->-r requirements.txt (line 10)) (13.4.2)\n",
            "Requirement already satisfied: tenacity<9,>=8.1.0 in /usr/local/lib/python3.10/dist-packages (from streamlit>=0.73.1->-r requirements.txt (line 10)) (8.2.2)\n",
            "Requirement already satisfied: toml<2,>=0.10.1 in /usr/local/lib/python3.10/dist-packages (from streamlit>=0.73.1->-r requirements.txt (line 10)) (0.10.2)\n",
            "Collecting tzlocal<5,>=1.1 (from streamlit>=0.73.1->-r requirements.txt (line 10))\n",
            "  Downloading tzlocal-4.3.1-py3-none-any.whl (20 kB)\n",
            "Collecting validators<1,>=0.2 (from streamlit>=0.73.1->-r requirements.txt (line 10))\n",
            "  Downloading validators-0.20.0.tar.gz (30 kB)\n",
            "  Preparing metadata (setup.py) ... \u001b[?25l\u001b[?25hdone\n",
            "Collecting gitpython!=3.1.19,<4,>=3.0.7 (from streamlit>=0.73.1->-r requirements.txt (line 10))\n",
            "  Downloading GitPython-3.1.32-py3-none-any.whl (188 kB)\n",
            "\u001b[2K     \u001b[90m━━━━━━━━━━━━━━━━━━━━━━━━━━━━━━━━━━━━━━\u001b[0m \u001b[32m188.5/188.5 kB\u001b[0m \u001b[31m24.6 MB/s\u001b[0m eta \u001b[36m0:00:00\u001b[0m\n",
            "\u001b[?25hCollecting pydeck<1,>=0.8 (from streamlit>=0.73.1->-r requirements.txt (line 10))\n",
            "  Downloading pydeck-0.8.0-py2.py3-none-any.whl (4.7 MB)\n",
            "\u001b[2K     \u001b[90m━━━━━━━━━━━━━━━━━━━━━━━━━━━━━━━━━━━━━━━━\u001b[0m \u001b[32m4.7/4.7 MB\u001b[0m \u001b[31m83.7 MB/s\u001b[0m eta \u001b[36m0:00:00\u001b[0m\n",
            "\u001b[?25hRequirement already satisfied: tornado<7,>=6.0.3 in /usr/local/lib/python3.10/dist-packages (from streamlit>=0.73.1->-r requirements.txt (line 10)) (6.3.1)\n",
            "Collecting watchdog>=2.1.5 (from streamlit>=0.73.1->-r requirements.txt (line 10))\n",
            "  Downloading watchdog-3.0.0-py3-none-manylinux2014_x86_64.whl (82 kB)\n",
            "\u001b[2K     \u001b[90m━━━━━━━━━━━━━━━━━━━━━━━━━━━━━━━━━━━━━━━━\u001b[0m \u001b[32m82.1/82.1 kB\u001b[0m \u001b[31m12.1 MB/s\u001b[0m eta \u001b[36m0:00:00\u001b[0m\n",
            "\u001b[?25hRequirement already satisfied: PyWavelets>=1.1.1 in /usr/local/lib/python3.10/dist-packages (from invisible-watermark>=0.1.5->-r requirements.txt (line 17)) (1.4.1)\n",
            "Requirement already satisfied: entrypoints in /usr/local/lib/python3.10/dist-packages (from altair->gradio==3.13.2->-r requirements.txt (line 15)) (0.4)\n",
            "Requirement already satisfied: jsonschema>=3.0 in /usr/local/lib/python3.10/dist-packages (from altair->gradio==3.13.2->-r requirements.txt (line 15)) (4.3.3)\n",
            "Requirement already satisfied: toolz in /usr/local/lib/python3.10/dist-packages (from altair->gradio==3.13.2->-r requirements.txt (line 15)) (0.12.0)\n",
            "Requirement already satisfied: attrs>=17.3.0 in /usr/local/lib/python3.10/dist-packages (from aiohttp->gradio==3.13.2->-r requirements.txt (line 15)) (23.1.0)\n",
            "Requirement already satisfied: charset-normalizer<4.0,>=2.0 in /usr/local/lib/python3.10/dist-packages (from aiohttp->gradio==3.13.2->-r requirements.txt (line 15)) (2.0.12)\n",
            "Requirement already satisfied: multidict<7.0,>=4.5 in /usr/local/lib/python3.10/dist-packages (from aiohttp->gradio==3.13.2->-r requirements.txt (line 15)) (6.0.4)\n",
            "Requirement already satisfied: async-timeout<5.0,>=4.0.0a3 in /usr/local/lib/python3.10/dist-packages (from aiohttp->gradio==3.13.2->-r requirements.txt (line 15)) (4.0.2)\n",
            "Requirement already satisfied: yarl<2.0,>=1.0 in /usr/local/lib/python3.10/dist-packages (from aiohttp->gradio==3.13.2->-r requirements.txt (line 15)) (1.9.2)\n",
            "Requirement already satisfied: frozenlist>=1.1.1 in /usr/local/lib/python3.10/dist-packages (from aiohttp->gradio==3.13.2->-r requirements.txt (line 15)) (1.4.0)\n",
            "Requirement already satisfied: aiosignal>=1.1.2 in /usr/local/lib/python3.10/dist-packages (from aiohttp->gradio==3.13.2->-r requirements.txt (line 15)) (1.3.1)\n",
            "Collecting gitdb<5,>=4.0.1 (from gitpython!=3.1.19,<4,>=3.0.7->streamlit>=0.73.1->-r requirements.txt (line 10))\n",
            "  Downloading gitdb-4.0.10-py3-none-any.whl (62 kB)\n",
            "\u001b[2K     \u001b[90m━━━━━━━━━━━━━━━━━━━━━━━━━━━━━━━━━━━━━━━━\u001b[0m \u001b[32m62.7/62.7 kB\u001b[0m \u001b[31m8.7 MB/s\u001b[0m eta \u001b[36m0:00:00\u001b[0m\n",
            "\u001b[?25hRequirement already satisfied: scikit-image>=0.11.0 in /usr/local/lib/python3.10/dist-packages (from imgaug<0.2.7,>=0.2.5->albumentations==0.4.3->-r requirements.txt (line 1)) (0.19.3)\n",
            "Requirement already satisfied: six in /usr/local/lib/python3.10/dist-packages (from imgaug<0.2.7,>=0.2.5->albumentations==0.4.3->-r requirements.txt (line 1)) (1.16.0)\n",
            "Requirement already satisfied: pytz>=2020.1 in /usr/local/lib/python3.10/dist-packages (from pandas->gradio==3.13.2->-r requirements.txt (line 15)) (2022.7.1)\n",
            "Requirement already satisfied: urllib3<1.27,>=1.21.1 in /usr/local/lib/python3.10/dist-packages (from requests->transformers==4.19.2->-r requirements.txt (line 12)) (1.26.16)\n",
            "Requirement already satisfied: certifi>=2017.4.17 in /usr/local/lib/python3.10/dist-packages (from requests->transformers==4.19.2->-r requirements.txt (line 12)) (2023.5.7)\n",
            "Requirement already satisfied: idna<4,>=2.5 in /usr/local/lib/python3.10/dist-packages (from requests->transformers==4.19.2->-r requirements.txt (line 12)) (3.4)\n",
            "Requirement already satisfied: absl-py>=0.4 in /usr/local/lib/python3.10/dist-packages (from tensorboard>=2.2.0->pytorch-lightning==1.4.2->-r requirements.txt (line 6)) (1.4.0)\n",
            "Requirement already satisfied: grpcio>=1.48.2 in /usr/local/lib/python3.10/dist-packages (from tensorboard>=2.2.0->pytorch-lightning==1.4.2->-r requirements.txt (line 6)) (1.56.0)\n",
            "Requirement already satisfied: google-auth<3,>=1.6.3 in /usr/local/lib/python3.10/dist-packages (from tensorboard>=2.2.0->pytorch-lightning==1.4.2->-r requirements.txt (line 6)) (2.17.3)\n",
            "Requirement already satisfied: google-auth-oauthlib<1.1,>=0.5 in /usr/local/lib/python3.10/dist-packages (from tensorboard>=2.2.0->pytorch-lightning==1.4.2->-r requirements.txt (line 6)) (1.0.0)\n",
            "Requirement already satisfied: markdown>=2.6.8 in /usr/local/lib/python3.10/dist-packages (from tensorboard>=2.2.0->pytorch-lightning==1.4.2->-r requirements.txt (line 6)) (3.4.3)\n",
            "Requirement already satisfied: setuptools>=41.0.0 in /usr/local/lib/python3.10/dist-packages (from tensorboard>=2.2.0->pytorch-lightning==1.4.2->-r requirements.txt (line 6)) (67.7.2)\n",
            "Requirement already satisfied: tensorboard-data-server<0.8.0,>=0.7.0 in /usr/local/lib/python3.10/dist-packages (from tensorboard>=2.2.0->pytorch-lightning==1.4.2->-r requirements.txt (line 6)) (0.7.1)\n",
            "Requirement already satisfied: werkzeug>=1.0.1 in /usr/local/lib/python3.10/dist-packages (from tensorboard>=2.2.0->pytorch-lightning==1.4.2->-r requirements.txt (line 6)) (2.3.6)\n",
            "Requirement already satisfied: wheel>=0.26 in /usr/local/lib/python3.10/dist-packages (from tensorboard>=2.2.0->pytorch-lightning==1.4.2->-r requirements.txt (line 6)) (0.40.0)\n",
            "Requirement already satisfied: sympy in /usr/local/lib/python3.10/dist-packages (from torch>=1.6->pytorch-lightning==1.4.2->-r requirements.txt (line 6)) (1.11.1)\n",
            "Requirement already satisfied: networkx in /usr/local/lib/python3.10/dist-packages (from torch>=1.6->pytorch-lightning==1.4.2->-r requirements.txt (line 6)) (3.1)\n",
            "Requirement already satisfied: triton==2.0.0 in /usr/local/lib/python3.10/dist-packages (from torch>=1.6->pytorch-lightning==1.4.2->-r requirements.txt (line 6)) (2.0.0)\n",
            "Requirement already satisfied: cmake in /usr/local/lib/python3.10/dist-packages (from triton==2.0.0->torch>=1.6->pytorch-lightning==1.4.2->-r requirements.txt (line 6)) (3.25.2)\n",
            "Requirement already satisfied: lit in /usr/local/lib/python3.10/dist-packages (from triton==2.0.0->torch>=1.6->pytorch-lightning==1.4.2->-r requirements.txt (line 6)) (16.0.6)\n",
            "Collecting pytz-deprecation-shim (from tzlocal<5,>=1.1->streamlit>=0.73.1->-r requirements.txt (line 10))\n",
            "  Downloading pytz_deprecation_shim-0.1.0.post0-py2.py3-none-any.whl (15 kB)\n",
            "Requirement already satisfied: decorator>=3.4.0 in /usr/local/lib/python3.10/dist-packages (from validators<1,>=0.2->streamlit>=0.73.1->-r requirements.txt (line 10)) (4.4.2)\n",
            "Collecting starlette<0.28.0,>=0.27.0 (from fastapi->gradio==3.13.2->-r requirements.txt (line 15))\n",
            "  Downloading starlette-0.27.0-py3-none-any.whl (66 kB)\n",
            "\u001b[2K     \u001b[90m━━━━━━━━━━━━━━━━━━━━━━━━━━━━━━━━━━━━━━━━\u001b[0m \u001b[32m67.0/67.0 kB\u001b[0m \u001b[31m8.6 MB/s\u001b[0m eta \u001b[36m0:00:00\u001b[0m\n",
            "\u001b[?25hRequirement already satisfied: wcwidth>=0.2.5 in /usr/local/lib/python3.10/dist-packages (from ftfy->open-clip-torch==2.7.0->-r requirements.txt (line 14)) (0.2.6)\n",
            "Collecting httpcore<0.18.0,>=0.15.0 (from httpx->gradio==3.13.2->-r requirements.txt (line 15))\n",
            "  Downloading httpcore-0.17.3-py3-none-any.whl (74 kB)\n",
            "\u001b[2K     \u001b[90m━━━━━━━━━━━━━━━━━━━━━━━━━━━━━━━━━━━━━━━━\u001b[0m \u001b[32m74.5/74.5 kB\u001b[0m \u001b[31m10.3 MB/s\u001b[0m eta \u001b[36m0:00:00\u001b[0m\n",
            "\u001b[?25hRequirement already satisfied: sniffio in /usr/local/lib/python3.10/dist-packages (from httpx->gradio==3.13.2->-r requirements.txt (line 15)) (1.3.0)\n",
            "Requirement already satisfied: mdurl~=0.1 in /usr/local/lib/python3.10/dist-packages (from markdown-it-py[linkify,plugins]->gradio==3.13.2->-r requirements.txt (line 15)) (0.1.2)\n",
            "Collecting mdit-py-plugins (from markdown-it-py[linkify,plugins]->gradio==3.13.2->-r requirements.txt (line 15))\n",
            "  Downloading mdit_py_plugins-0.4.0-py3-none-any.whl (54 kB)\n",
            "\u001b[2K     \u001b[90m━━━━━━━━━━━━━━━━━━━━━━━━━━━━━━━━━━━━━━━━\u001b[0m \u001b[32m54.1/54.1 kB\u001b[0m \u001b[31m6.8 MB/s\u001b[0m eta \u001b[36m0:00:00\u001b[0m\n",
            "\u001b[?25hCollecting linkify-it-py<3,>=1 (from markdown-it-py[linkify,plugins]->gradio==3.13.2->-r requirements.txt (line 15))\n",
            "  Downloading linkify_it_py-2.0.2-py3-none-any.whl (19 kB)\n",
            "Requirement already satisfied: contourpy>=1.0.1 in /usr/local/lib/python3.10/dist-packages (from matplotlib->gradio==3.13.2->-r requirements.txt (line 15)) (1.1.0)\n",
            "Requirement already satisfied: cycler>=0.10 in /usr/local/lib/python3.10/dist-packages (from matplotlib->gradio==3.13.2->-r requirements.txt (line 15)) (0.11.0)\n",
            "Requirement already satisfied: fonttools>=4.22.0 in /usr/local/lib/python3.10/dist-packages (from matplotlib->gradio==3.13.2->-r requirements.txt (line 15)) (4.41.0)\n",
            "Requirement already satisfied: kiwisolver>=1.0.1 in /usr/local/lib/python3.10/dist-packages (from matplotlib->gradio==3.13.2->-r requirements.txt (line 15)) (1.4.4)\n",
            "Requirement already satisfied: pyparsing>=2.3.1 in /usr/local/lib/python3.10/dist-packages (from matplotlib->gradio==3.13.2->-r requirements.txt (line 15)) (3.1.0)\n",
            "Collecting h11>=0.8 (from uvicorn->gradio==3.13.2->-r requirements.txt (line 15))\n",
            "  Downloading h11-0.14.0-py3-none-any.whl (58 kB)\n",
            "\u001b[2K     \u001b[90m━━━━━━━━━━━━━━━━━━━━━━━━━━━━━━━━━━━━━━━━\u001b[0m \u001b[32m58.3/58.3 kB\u001b[0m \u001b[31m8.3 MB/s\u001b[0m eta \u001b[36m0:00:00\u001b[0m\n",
            "\u001b[?25hCollecting smmap<6,>=3.0.1 (from gitdb<5,>=4.0.1->gitpython!=3.1.19,<4,>=3.0.7->streamlit>=0.73.1->-r requirements.txt (line 10))\n",
            "  Downloading smmap-5.0.0-py3-none-any.whl (24 kB)\n",
            "Requirement already satisfied: pyasn1-modules>=0.2.1 in /usr/local/lib/python3.10/dist-packages (from google-auth<3,>=1.6.3->tensorboard>=2.2.0->pytorch-lightning==1.4.2->-r requirements.txt (line 6)) (0.3.0)\n",
            "Requirement already satisfied: rsa<5,>=3.1.4 in /usr/local/lib/python3.10/dist-packages (from google-auth<3,>=1.6.3->tensorboard>=2.2.0->pytorch-lightning==1.4.2->-r requirements.txt (line 6)) (4.9)\n",
            "Requirement already satisfied: requests-oauthlib>=0.7.0 in /usr/local/lib/python3.10/dist-packages (from google-auth-oauthlib<1.1,>=0.5->tensorboard>=2.2.0->pytorch-lightning==1.4.2->-r requirements.txt (line 6)) (1.3.1)\n",
            "Requirement already satisfied: anyio<5.0,>=3.0 in /usr/local/lib/python3.10/dist-packages (from httpcore<0.18.0,>=0.15.0->httpx->gradio==3.13.2->-r requirements.txt (line 15)) (3.7.1)\n",
            "Requirement already satisfied: pyrsistent!=0.17.0,!=0.17.1,!=0.17.2,>=0.14.0 in /usr/local/lib/python3.10/dist-packages (from jsonschema>=3.0->altair->gradio==3.13.2->-r requirements.txt (line 15)) (0.19.3)\n",
            "Collecting uc-micro-py (from linkify-it-py<3,>=1->markdown-it-py[linkify,plugins]->gradio==3.13.2->-r requirements.txt (line 15))\n",
            "  Downloading uc_micro_py-1.0.2-py3-none-any.whl (6.2 kB)\n",
            "Requirement already satisfied: tifffile>=2019.7.26 in /usr/local/lib/python3.10/dist-packages (from scikit-image>=0.11.0->imgaug<0.2.7,>=0.2.5->albumentations==0.4.3->-r requirements.txt (line 1)) (2023.7.10)\n",
            "Collecting tzdata (from pytz-deprecation-shim->tzlocal<5,>=1.1->streamlit>=0.73.1->-r requirements.txt (line 10))\n",
            "  Downloading tzdata-2023.3-py2.py3-none-any.whl (341 kB)\n",
            "\u001b[2K     \u001b[90m━━━━━━━━━━━━━━━━━━━━━━━━━━━━━━━━━━━━━━\u001b[0m \u001b[32m341.8/341.8 kB\u001b[0m \u001b[31m37.6 MB/s\u001b[0m eta \u001b[36m0:00:00\u001b[0m\n",
            "\u001b[?25hRequirement already satisfied: mpmath>=0.19 in /usr/local/lib/python3.10/dist-packages (from sympy->torch>=1.6->pytorch-lightning==1.4.2->-r requirements.txt (line 6)) (1.3.0)\n",
            "Requirement already satisfied: exceptiongroup in /usr/local/lib/python3.10/dist-packages (from anyio<5.0,>=3.0->httpcore<0.18.0,>=0.15.0->httpx->gradio==3.13.2->-r requirements.txt (line 15)) (1.1.2)\n",
            "Requirement already satisfied: pyasn1<0.6.0,>=0.4.6 in /usr/local/lib/python3.10/dist-packages (from pyasn1-modules>=0.2.1->google-auth<3,>=1.6.3->tensorboard>=2.2.0->pytorch-lightning==1.4.2->-r requirements.txt (line 6)) (0.5.0)\n",
            "Requirement already satisfied: oauthlib>=3.0.0 in /usr/local/lib/python3.10/dist-packages (from requests-oauthlib>=0.7.0->google-auth-oauthlib<1.1,>=0.5->tensorboard>=2.2.0->pytorch-lightning==1.4.2->-r requirements.txt (line 6)) (3.2.2)\n",
            "Building wheels for collected packages: albumentations, pudb, antlr4-python3-runtime, test-tube, imgaug, urwid, validators, ffmpy\n",
            "  Building wheel for albumentations (setup.py) ... \u001b[?25l\u001b[?25hdone\n",
            "  Created wheel for albumentations: filename=albumentations-0.4.3-py3-none-any.whl size=60761 sha256=c2fc11a2bb38b1bc89e35b50aa68da2ca6dad20c0017f8e7bf2fbf006c203138\n",
            "  Stored in directory: /root/.cache/pip/wheels/6d/15/9a/e9e1ded8efc6c809dc42e97dfc5bb4f57267dc02f6a4617f0e\n",
            "  Building wheel for pudb (setup.py) ... \u001b[?25l\u001b[?25hdone\n",
            "  Created wheel for pudb: filename=pudb-2019.2-py3-none-any.whl size=63218 sha256=9cea6d77965bb10420c1033107350fdb07343cf122938cadf95cca5702543c0a\n",
            "  Stored in directory: /root/.cache/pip/wheels/02/0f/24/1ca86e678056ad3c72b3fe94f829b9bdf92bb4d661c32bbed1\n",
            "  Building wheel for antlr4-python3-runtime (setup.py) ... \u001b[?25l\u001b[?25hdone\n",
            "  Created wheel for antlr4-python3-runtime: filename=antlr4_python3_runtime-4.8-py3-none-any.whl size=141210 sha256=d97328b63952fd53fae6d352e75538409c1c362a385ab00b738bc3304ac635a4\n",
            "  Stored in directory: /root/.cache/pip/wheels/a7/20/bd/e1477d664f22d99989fd28ee1a43d6633dddb5cb9e801350d5\n",
            "  Building wheel for test-tube (setup.py) ... \u001b[?25l\u001b[?25hdone\n",
            "  Created wheel for test-tube: filename=test_tube-0.7.5-py3-none-any.whl size=25329 sha256=352449d6c78f26cd088e353acb39b32e8841bcde2573c79d62264040a509c04e\n",
            "  Stored in directory: /root/.cache/pip/wheels/28/d4/8b/1aeb47c0dedd931b8e6aec55a8091864a69ac6f0adc5b12ea9\n",
            "  Building wheel for imgaug (setup.py) ... \u001b[?25l\u001b[?25hdone\n",
            "  Created wheel for imgaug: filename=imgaug-0.2.6-py3-none-any.whl size=654003 sha256=2a07aa552dd7dd5103a7009b4f15cc7104db37a9ade2d1776e21cd1eb42d2b45\n",
            "  Stored in directory: /root/.cache/pip/wheels/cb/c7/a6/2d7a113c4885dc0f4eacd8f41095763181c0b9a18223ac7533\n",
            "  Building wheel for urwid (setup.py) ... \u001b[?25l\u001b[?25hdone\n",
            "  Created wheel for urwid: filename=urwid-2.1.2-cp310-cp310-linux_x86_64.whl size=255373 sha256=7a506eb5e9b15e9414d9e1abd09b2346e03e6f7227a1d539a0a8cb022ec62281\n",
            "  Stored in directory: /root/.cache/pip/wheels/05/3d/85/cde786c07f333509d868e5024d5ed8c70519fa1b8e8c66ec6c\n",
            "  Building wheel for validators (setup.py) ... \u001b[?25l\u001b[?25hdone\n",
            "  Created wheel for validators: filename=validators-0.20.0-py3-none-any.whl size=19579 sha256=1600ce75c435d2c42672996852aeca593d946c0cf7959827f55414a3477537fd\n",
            "  Stored in directory: /root/.cache/pip/wheels/f2/ed/dd/d3a556ad245ef9dc570c6bcd2f22886d17b0b408dd3bbb9ac3\n",
            "  Building wheel for ffmpy (setup.py) ... \u001b[?25l\u001b[?25hdone\n",
            "  Created wheel for ffmpy: filename=ffmpy-0.3.1-py3-none-any.whl size=5579 sha256=4c840b7e1080cbe70521d3742abd5bb4594a6e7cf6fc26a430483665de27d7c9\n",
            "  Stored in directory: /root/.cache/pip/wheels/01/a6/d1/1c0828c304a4283b2c1639a09ad86f83d7c487ef34c6b4a1bf\n",
            "Successfully built albumentations pudb antlr4-python3-runtime test-tube imgaug urwid validators ffmpy\n",
            "Installing collected packages: urwid, tokenizers, pydub, ffmpy, einops, braceexpand, antlr4-python3-runtime, websockets, webdataset, watchdog, validators, uc-micro-py, tzdata, smmap, python-multipart, pympler, pyDeprecate, pycryptodome, pudb, orjson, omegaconf, imageio-ffmpeg, imageio, h11, ftfy, uvicorn, starlette, pytz-deprecation-shim, pydeck, mdit-py-plugins, linkify-it-py, huggingface-hub, httpcore, gitdb, tzlocal, transformers, imgaug, httpx, gitpython, fastapi, streamlit, gradio, albumentations, streamlit-drawable-canvas, torchmetrics, test-tube, stable-diffusion, pytorch-lightning, open-clip-torch, kornia, invisible-watermark\n",
            "  Attempting uninstall: imageio-ffmpeg\n",
            "    Found existing installation: imageio-ffmpeg 0.4.8\n",
            "    Uninstalling imageio-ffmpeg-0.4.8:\n",
            "      Successfully uninstalled imageio-ffmpeg-0.4.8\n",
            "  Attempting uninstall: imageio\n",
            "    Found existing installation: imageio 2.25.1\n",
            "    Uninstalling imageio-2.25.1:\n",
            "      Successfully uninstalled imageio-2.25.1\n",
            "  Attempting uninstall: tzlocal\n",
            "    Found existing installation: tzlocal 5.0.1\n",
            "    Uninstalling tzlocal-5.0.1:\n",
            "      Successfully uninstalled tzlocal-5.0.1\n",
            "  Attempting uninstall: imgaug\n",
            "    Found existing installation: imgaug 0.4.0\n",
            "    Uninstalling imgaug-0.4.0:\n",
            "      Successfully uninstalled imgaug-0.4.0\n",
            "  Attempting uninstall: albumentations\n",
            "    Found existing installation: albumentations 1.2.1\n",
            "    Uninstalling albumentations-1.2.1:\n",
            "      Successfully uninstalled albumentations-1.2.1\n",
            "  Running setup.py develop for stable-diffusion\n",
            "Successfully installed albumentations-0.4.3 antlr4-python3-runtime-4.8 braceexpand-0.1.7 einops-0.3.0 fastapi-0.100.0 ffmpy-0.3.1 ftfy-6.1.1 gitdb-4.0.10 gitpython-3.1.32 gradio-3.13.2 h11-0.14.0 httpcore-0.17.3 httpx-0.24.1 huggingface-hub-0.16.4 imageio-2.9.0 imageio-ffmpeg-0.4.2 imgaug-0.2.6 invisible-watermark-0.2.0 kornia-0.6.0 linkify-it-py-2.0.2 mdit-py-plugins-0.4.0 omegaconf-2.1.1 open-clip-torch-2.7.0 orjson-3.9.2 pudb-2019.2 pyDeprecate-0.3.1 pycryptodome-3.18.0 pydeck-0.8.0 pydub-0.25.1 pympler-1.0.1 python-multipart-0.0.6 pytorch-lightning-1.4.2 pytz-deprecation-shim-0.1.0.post0 smmap-5.0.0 stable-diffusion-0.0.1 starlette-0.27.0 streamlit-1.25.0 streamlit-drawable-canvas-0.8.0 test-tube-0.7.5 tokenizers-0.12.1 torchmetrics-0.6.0 transformers-4.19.2 tzdata-2023.3 tzlocal-4.3.1 uc-micro-py-1.0.2 urwid-2.1.2 uvicorn-0.23.1 validators-0.20.0 watchdog-3.0.0 webdataset-0.2.5 websockets-11.0.3\n"
          ]
        },
        {
          "output_type": "display_data",
          "data": {
            "application/vnd.colab-display-data+json": {
              "pip_warning": {
                "packages": [
                  "pydevd_plugins"
                ]
              }
            }
          },
          "metadata": {}
        }
      ],
      "source": [
        "!pip install -r requirements.txt"
      ]
    },
    {
      "cell_type": "code",
      "execution_count": 2,
      "metadata": {
        "colab": {
          "base_uri": "https://localhost:8080/"
        },
        "id": "dBwmMw00ksvO",
        "outputId": "066712b2-d594-466d-e3f6-59fabf4371ad"
      },
      "outputs": [
        {
          "output_type": "stream",
          "name": "stdout",
          "text": [
            "Collecting pytorch-lightning==1.8.3.post0\n",
            "  Downloading pytorch_lightning-1.8.3.post0-py3-none-any.whl (798 kB)\n",
            "\u001b[2K     \u001b[90m━━━━━━━━━━━━━━━━━━━━━━━━━━━━━━━━━━━━━━━\u001b[0m \u001b[32m799.0/799.0 kB\u001b[0m \u001b[31m6.8 MB/s\u001b[0m eta \u001b[36m0:00:00\u001b[0m\n",
            "\u001b[?25hRequirement already satisfied: numpy>=1.17.2 in /usr/local/lib/python3.10/dist-packages (from pytorch-lightning==1.8.3.post0) (1.22.4)\n",
            "Requirement already satisfied: torch>=1.9.* in /usr/local/lib/python3.10/dist-packages (from pytorch-lightning==1.8.3.post0) (2.0.1+cu118)\n",
            "Requirement already satisfied: tqdm>=4.57.0 in /usr/local/lib/python3.10/dist-packages (from pytorch-lightning==1.8.3.post0) (4.65.0)\n",
            "Requirement already satisfied: PyYAML>=5.4 in /usr/local/lib/python3.10/dist-packages (from pytorch-lightning==1.8.3.post0) (6.0.1)\n",
            "Requirement already satisfied: fsspec[http]>2021.06.0 in /usr/local/lib/python3.10/dist-packages (from pytorch-lightning==1.8.3.post0) (2023.6.0)\n",
            "Collecting tensorboardX>=2.2 (from pytorch-lightning==1.8.3.post0)\n",
            "  Downloading tensorboardX-2.6.1-py2.py3-none-any.whl (101 kB)\n",
            "\u001b[2K     \u001b[90m━━━━━━━━━━━━━━━━━━━━━━━━━━━━━━━━━━━━━━━\u001b[0m \u001b[32m101.6/101.6 kB\u001b[0m \u001b[31m6.9 MB/s\u001b[0m eta \u001b[36m0:00:00\u001b[0m\n",
            "\u001b[?25hCollecting torchmetrics>=0.7.0 (from pytorch-lightning==1.8.3.post0)\n",
            "  Downloading torchmetrics-1.0.1-py3-none-any.whl (729 kB)\n",
            "\u001b[2K     \u001b[90m━━━━━━━━━━━━━━━━━━━━━━━━━━━━━━━━━━━━━━\u001b[0m \u001b[32m729.2/729.2 kB\u001b[0m \u001b[31m12.2 MB/s\u001b[0m eta \u001b[36m0:00:00\u001b[0m\n",
            "\u001b[?25hRequirement already satisfied: packaging>=17.0 in /usr/local/lib/python3.10/dist-packages (from pytorch-lightning==1.8.3.post0) (23.1)\n",
            "Requirement already satisfied: typing-extensions>=4.0.0 in /usr/local/lib/python3.10/dist-packages (from pytorch-lightning==1.8.3.post0) (4.7.1)\n",
            "Collecting lightning-utilities==0.3.* (from pytorch-lightning==1.8.3.post0)\n",
            "  Downloading lightning_utilities-0.3.0-py3-none-any.whl (15 kB)\n",
            "Collecting fire (from lightning-utilities==0.3.*->pytorch-lightning==1.8.3.post0)\n",
            "  Downloading fire-0.5.0.tar.gz (88 kB)\n",
            "\u001b[2K     \u001b[90m━━━━━━━━━━━━━━━━━━━━━━━━━━━━━━━━━━━━━━━━\u001b[0m \u001b[32m88.3/88.3 kB\u001b[0m \u001b[31m12.1 MB/s\u001b[0m eta \u001b[36m0:00:00\u001b[0m\n",
            "\u001b[?25h  Preparing metadata (setup.py) ... \u001b[?25l\u001b[?25hdone\n",
            "Requirement already satisfied: requests in /usr/local/lib/python3.10/dist-packages (from fsspec[http]>2021.06.0->pytorch-lightning==1.8.3.post0) (2.27.1)\n",
            "Requirement already satisfied: aiohttp!=4.0.0a0,!=4.0.0a1 in /usr/local/lib/python3.10/dist-packages (from fsspec[http]>2021.06.0->pytorch-lightning==1.8.3.post0) (3.8.4)\n",
            "Collecting protobuf>=4.22.3 (from tensorboardX>=2.2->pytorch-lightning==1.8.3.post0)\n",
            "  Downloading protobuf-4.23.4-cp37-abi3-manylinux2014_x86_64.whl (304 kB)\n",
            "\u001b[2K     \u001b[90m━━━━━━━━━━━━━━━━━━━━━━━━━━━━━━━━━━━━━━\u001b[0m \u001b[32m304.5/304.5 kB\u001b[0m \u001b[31m12.6 MB/s\u001b[0m eta \u001b[36m0:00:00\u001b[0m\n",
            "\u001b[?25hRequirement already satisfied: filelock in /usr/local/lib/python3.10/dist-packages (from torch>=1.9.*->pytorch-lightning==1.8.3.post0) (3.12.2)\n",
            "Requirement already satisfied: sympy in /usr/local/lib/python3.10/dist-packages (from torch>=1.9.*->pytorch-lightning==1.8.3.post0) (1.11.1)\n",
            "Requirement already satisfied: networkx in /usr/local/lib/python3.10/dist-packages (from torch>=1.9.*->pytorch-lightning==1.8.3.post0) (3.1)\n",
            "Requirement already satisfied: jinja2 in /usr/local/lib/python3.10/dist-packages (from torch>=1.9.*->pytorch-lightning==1.8.3.post0) (3.1.2)\n",
            "Requirement already satisfied: triton==2.0.0 in /usr/local/lib/python3.10/dist-packages (from torch>=1.9.*->pytorch-lightning==1.8.3.post0) (2.0.0)\n",
            "Requirement already satisfied: cmake in /usr/local/lib/python3.10/dist-packages (from triton==2.0.0->torch>=1.9.*->pytorch-lightning==1.8.3.post0) (3.25.2)\n",
            "Requirement already satisfied: lit in /usr/local/lib/python3.10/dist-packages (from triton==2.0.0->torch>=1.9.*->pytorch-lightning==1.8.3.post0) (16.0.6)\n",
            "INFO: pip is looking at multiple versions of torchmetrics to determine which version is compatible with other requirements. This could take a while.\n",
            "Collecting torchmetrics>=0.7.0 (from pytorch-lightning==1.8.3.post0)\n",
            "  Downloading torchmetrics-1.0.0-py3-none-any.whl (728 kB)\n",
            "\u001b[2K     \u001b[90m━━━━━━━━━━━━━━━━━━━━━━━━━━━━━━━━━━━━━━\u001b[0m \u001b[32m728.8/728.8 kB\u001b[0m \u001b[31m16.7 MB/s\u001b[0m eta \u001b[36m0:00:00\u001b[0m\n",
            "\u001b[?25h  Downloading torchmetrics-0.11.4-py3-none-any.whl (519 kB)\n",
            "\u001b[2K     \u001b[90m━━━━━━━━━━━━━━━━━━━━━━━━━━━━━━━━━━━━━━\u001b[0m \u001b[32m519.2/519.2 kB\u001b[0m \u001b[31m20.0 MB/s\u001b[0m eta \u001b[36m0:00:00\u001b[0m\n",
            "\u001b[?25hRequirement already satisfied: attrs>=17.3.0 in /usr/local/lib/python3.10/dist-packages (from aiohttp!=4.0.0a0,!=4.0.0a1->fsspec[http]>2021.06.0->pytorch-lightning==1.8.3.post0) (23.1.0)\n",
            "Requirement already satisfied: charset-normalizer<4.0,>=2.0 in /usr/local/lib/python3.10/dist-packages (from aiohttp!=4.0.0a0,!=4.0.0a1->fsspec[http]>2021.06.0->pytorch-lightning==1.8.3.post0) (2.0.12)\n",
            "Requirement already satisfied: multidict<7.0,>=4.5 in /usr/local/lib/python3.10/dist-packages (from aiohttp!=4.0.0a0,!=4.0.0a1->fsspec[http]>2021.06.0->pytorch-lightning==1.8.3.post0) (6.0.4)\n",
            "Requirement already satisfied: async-timeout<5.0,>=4.0.0a3 in /usr/local/lib/python3.10/dist-packages (from aiohttp!=4.0.0a0,!=4.0.0a1->fsspec[http]>2021.06.0->pytorch-lightning==1.8.3.post0) (4.0.2)\n",
            "Requirement already satisfied: yarl<2.0,>=1.0 in /usr/local/lib/python3.10/dist-packages (from aiohttp!=4.0.0a0,!=4.0.0a1->fsspec[http]>2021.06.0->pytorch-lightning==1.8.3.post0) (1.9.2)\n",
            "Requirement already satisfied: frozenlist>=1.1.1 in /usr/local/lib/python3.10/dist-packages (from aiohttp!=4.0.0a0,!=4.0.0a1->fsspec[http]>2021.06.0->pytorch-lightning==1.8.3.post0) (1.4.0)\n",
            "Requirement already satisfied: aiosignal>=1.1.2 in /usr/local/lib/python3.10/dist-packages (from aiohttp!=4.0.0a0,!=4.0.0a1->fsspec[http]>2021.06.0->pytorch-lightning==1.8.3.post0) (1.3.1)\n",
            "Requirement already satisfied: six in /usr/local/lib/python3.10/dist-packages (from fire->lightning-utilities==0.3.*->pytorch-lightning==1.8.3.post0) (1.16.0)\n",
            "Requirement already satisfied: termcolor in /usr/local/lib/python3.10/dist-packages (from fire->lightning-utilities==0.3.*->pytorch-lightning==1.8.3.post0) (2.3.0)\n",
            "Requirement already satisfied: MarkupSafe>=2.0 in /usr/local/lib/python3.10/dist-packages (from jinja2->torch>=1.9.*->pytorch-lightning==1.8.3.post0) (2.1.3)\n",
            "Requirement already satisfied: urllib3<1.27,>=1.21.1 in /usr/local/lib/python3.10/dist-packages (from requests->fsspec[http]>2021.06.0->pytorch-lightning==1.8.3.post0) (1.26.16)\n",
            "Requirement already satisfied: certifi>=2017.4.17 in /usr/local/lib/python3.10/dist-packages (from requests->fsspec[http]>2021.06.0->pytorch-lightning==1.8.3.post0) (2023.5.7)\n",
            "Requirement already satisfied: idna<4,>=2.5 in /usr/local/lib/python3.10/dist-packages (from requests->fsspec[http]>2021.06.0->pytorch-lightning==1.8.3.post0) (3.4)\n",
            "Requirement already satisfied: mpmath>=0.19 in /usr/local/lib/python3.10/dist-packages (from sympy->torch>=1.9.*->pytorch-lightning==1.8.3.post0) (1.3.0)\n",
            "Building wheels for collected packages: fire\n",
            "  Building wheel for fire (setup.py) ... \u001b[?25l\u001b[?25hdone\n",
            "  Created wheel for fire: filename=fire-0.5.0-py2.py3-none-any.whl size=116932 sha256=a31e8b8f921631d22d96d7382e2363e95e1f1f863c4ea138961ece8236d2ffc4\n",
            "  Stored in directory: /root/.cache/pip/wheels/90/d4/f7/9404e5db0116bd4d43e5666eaa3e70ab53723e1e3ea40c9a95\n",
            "Successfully built fire\n",
            "Installing collected packages: protobuf, fire, tensorboardX, lightning-utilities, torchmetrics, pytorch-lightning\n",
            "  Attempting uninstall: protobuf\n",
            "    Found existing installation: protobuf 3.20.3\n",
            "    Uninstalling protobuf-3.20.3:\n",
            "      Successfully uninstalled protobuf-3.20.3\n",
            "  Attempting uninstall: torchmetrics\n",
            "    Found existing installation: torchmetrics 0.6.0\n",
            "    Uninstalling torchmetrics-0.6.0:\n",
            "      Successfully uninstalled torchmetrics-0.6.0\n",
            "  Attempting uninstall: pytorch-lightning\n",
            "    Found existing installation: pytorch-lightning 1.4.2\n",
            "    Uninstalling pytorch-lightning-1.4.2:\n",
            "      Successfully uninstalled pytorch-lightning-1.4.2\n",
            "Successfully installed fire-0.5.0 lightning-utilities-0.3.0 protobuf-4.23.4 pytorch-lightning-1.8.3.post0 tensorboardX-2.6.1 torchmetrics-0.11.4\n"
          ]
        }
      ],
      "source": [
        "!pip install pytorch-lightning==1.8.3.post0"
      ]
    },
    {
      "cell_type": "markdown",
      "metadata": {
        "id": "uGELElpgWDSg"
      },
      "source": [
        "## Step 3. Download the checkpoint\n",
        "The checkpoint is the model. This is a trained Generative AI model that is capable of generating images given the text prompt."
      ]
    },
    {
      "cell_type": "code",
      "execution_count": 3,
      "metadata": {
        "colab": {
          "base_uri": "https://localhost:8080/"
        },
        "id": "_BttlJm3TIj5",
        "outputId": "3e45dd41-e2df-4624-b18c-a4da5c3a213e"
      },
      "outputs": [
        {
          "output_type": "stream",
          "name": "stdout",
          "text": [
            "--2023-07-22 03:11:14--  https://huggingface.co/stabilityai/stable-diffusion-2-1/resolve/main/v2-1_768-ema-pruned.ckpt\n",
            "Resolving huggingface.co (huggingface.co)... 13.225.142.96, 13.225.142.107, 13.225.142.20, ...\n",
            "Connecting to huggingface.co (huggingface.co)|13.225.142.96|:443... connected.\n",
            "HTTP request sent, awaiting response... 302 Found\n",
            "Location: https://cdn-lfs.huggingface.co/repos/b4/71/b47143176d3790e957485b59cc13cf072a4b2cbe3340d1b8fa86f53d7197236f/ad2a33c361c1f593c4a1fb32ea81afce2b5bb7d1983c6b94793a26a3b54b08a0?response-content-disposition=attachment%3B+filename*%3DUTF-8%27%27v2-1_768-ema-pruned.ckpt%3B+filename%3D%22v2-1_768-ema-pruned.ckpt%22%3B&Expires=1690253970&Policy=eyJTdGF0ZW1lbnQiOlt7IkNvbmRpdGlvbiI6eyJEYXRlTGVzc1RoYW4iOnsiQVdTOkVwb2NoVGltZSI6MTY5MDI1Mzk3MH19LCJSZXNvdXJjZSI6Imh0dHBzOi8vY2RuLWxmcy5odWdnaW5nZmFjZS5jby9yZXBvcy9iNC83MS9iNDcxNDMxNzZkMzc5MGU5NTc0ODViNTljYzEzY2YwNzJhNGIyY2JlMzM0MGQxYjhmYTg2ZjUzZDcxOTcyMzZmL2FkMmEzM2MzNjFjMWY1OTNjNGExZmIzMmVhODFhZmNlMmI1YmI3ZDE5ODNjNmI5NDc5M2EyNmEzYjU0YjA4YTA%7EcmVzcG9uc2UtY29udGVudC1kaXNwb3NpdGlvbj0qIn1dfQ__&Signature=zWYLkwaVwV0z81sLyM-sEoOJrcoML-uvKFu76V5-25JWUlNGTq7yiORvzRep58oyK8HrJUhxwZtvpdqg2Oak9xvmhb6BDNwXS6cikJE1omFyvPliHqHuAMW6%7Edvyd1qqWfxekglRgU6DJ88GOZDxajysCxxas4pN1rRwbqg1U33ej1srbEyX3uXeGwSSTOOmUJ7qcn2SxlI2DFzev1WSUAkL0sGtfd8cJDPrySyG%7E4XQ5K3CxzyqVrDheQD9xt7LIyFIKOvIoYPiTEK%7EG7V%7EUEu-c%7EaRKte2P8MS3cFNMQC3EFEtcy9z18ZtcJzNJRnzi9uO4mzcVCtD3BuGEq01CQ__&Key-Pair-Id=KVTP0A1DKRTAX [following]\n",
            "--2023-07-22 03:11:14--  https://cdn-lfs.huggingface.co/repos/b4/71/b47143176d3790e957485b59cc13cf072a4b2cbe3340d1b8fa86f53d7197236f/ad2a33c361c1f593c4a1fb32ea81afce2b5bb7d1983c6b94793a26a3b54b08a0?response-content-disposition=attachment%3B+filename*%3DUTF-8%27%27v2-1_768-ema-pruned.ckpt%3B+filename%3D%22v2-1_768-ema-pruned.ckpt%22%3B&Expires=1690253970&Policy=eyJTdGF0ZW1lbnQiOlt7IkNvbmRpdGlvbiI6eyJEYXRlTGVzc1RoYW4iOnsiQVdTOkVwb2NoVGltZSI6MTY5MDI1Mzk3MH19LCJSZXNvdXJjZSI6Imh0dHBzOi8vY2RuLWxmcy5odWdnaW5nZmFjZS5jby9yZXBvcy9iNC83MS9iNDcxNDMxNzZkMzc5MGU5NTc0ODViNTljYzEzY2YwNzJhNGIyY2JlMzM0MGQxYjhmYTg2ZjUzZDcxOTcyMzZmL2FkMmEzM2MzNjFjMWY1OTNjNGExZmIzMmVhODFhZmNlMmI1YmI3ZDE5ODNjNmI5NDc5M2EyNmEzYjU0YjA4YTA%7EcmVzcG9uc2UtY29udGVudC1kaXNwb3NpdGlvbj0qIn1dfQ__&Signature=zWYLkwaVwV0z81sLyM-sEoOJrcoML-uvKFu76V5-25JWUlNGTq7yiORvzRep58oyK8HrJUhxwZtvpdqg2Oak9xvmhb6BDNwXS6cikJE1omFyvPliHqHuAMW6%7Edvyd1qqWfxekglRgU6DJ88GOZDxajysCxxas4pN1rRwbqg1U33ej1srbEyX3uXeGwSSTOOmUJ7qcn2SxlI2DFzev1WSUAkL0sGtfd8cJDPrySyG%7E4XQ5K3CxzyqVrDheQD9xt7LIyFIKOvIoYPiTEK%7EG7V%7EUEu-c%7EaRKte2P8MS3cFNMQC3EFEtcy9z18ZtcJzNJRnzi9uO4mzcVCtD3BuGEq01CQ__&Key-Pair-Id=KVTP0A1DKRTAX\n",
            "Resolving cdn-lfs.huggingface.co (cdn-lfs.huggingface.co)... 13.226.210.5, 13.226.210.90, 13.226.210.76, ...\n",
            "Connecting to cdn-lfs.huggingface.co (cdn-lfs.huggingface.co)|13.226.210.5|:443... connected.\n",
            "HTTP request sent, awaiting response... 200 OK\n",
            "Length: 5214865159 (4.9G) [binary/octet-stream]\n",
            "Saving to: ‘v2-1_768-ema-pruned.ckpt’\n",
            "\n",
            "v2-1_768-ema-pruned 100%[===================>]   4.86G  67.3MB/s    in 78s     \n",
            "\n",
            "2023-07-22 03:12:32 (64.0 MB/s) - ‘v2-1_768-ema-pruned.ckpt’ saved [5214865159/5214865159]\n",
            "\n"
          ]
        }
      ],
      "source": [
        "!wget https://huggingface.co/stabilityai/stable-diffusion-2-1/resolve/main/v2-1_768-ema-pruned.ckpt"
      ]
    },
    {
      "cell_type": "code",
      "execution_count": null,
      "metadata": {
        "colab": {
          "base_uri": "https://localhost:8080/"
        },
        "id": "5L1r5ZunedHi",
        "outputId": "bf08ab28-3144-436d-acef-a439d8042be2"
      },
      "outputs": [
        {
          "output_type": "stream",
          "name": "stdout",
          "text": [
            "assets\t     environment.yaml  modelcard.md\t setup.py\n",
            "checkpoints  ldm\t       README.md\t stable_diffusion.egg-info\n",
            "configs      LICENSE\t       requirements.txt  v2-1_768-ema-pruned.ckpt\n",
            "doc\t     LICENSE-MODEL     scripts\n"
          ]
        }
      ],
      "source": [
        "!ls"
      ]
    },
    {
      "cell_type": "markdown",
      "metadata": {
        "id": "LMl7CCaQsl3h"
      },
      "source": [
        "# Step 4. Run Stable Diffusion"
      ]
    },
    {
      "cell_type": "code",
      "execution_count": 4,
      "metadata": {
        "colab": {
          "base_uri": "https://localhost:8080/"
        },
        "id": "OKUxhNAVTwvs",
        "outputId": "b82bd8c2-f325-4d40-a96d-38f02c5fcada"
      },
      "outputs": [
        {
          "output_type": "stream",
          "name": "stdout",
          "text": [
            "Global seed set to 42\n",
            "Loading model from v2-1_768-ema-pruned.ckpt\n",
            "Global Step: 110000\n",
            "No module 'xformers'. Proceeding without it.\n",
            "/usr/local/lib/python3.10/dist-packages/pytorch_lightning/utilities/distributed.py:258: LightningDeprecationWarning: `pytorch_lightning.utilities.distributed.rank_zero_only` has been deprecated in v1.8.1 and will be removed in v1.10.0. You can import it from `pytorch_lightning.utilities` instead.\n",
            "  rank_zero_deprecation(\n",
            "LatentDiffusion: Running in v-prediction mode\n",
            "DiffusionWrapper has 865.91 M params.\n",
            "making attention of type 'vanilla' with 512 in_channels\n",
            "Working with z of shape (1, 4, 32, 32) = 4096 dimensions.\n",
            "making attention of type 'vanilla' with 512 in_channels\n",
            "Downloading: \"https://github.com/DagnyT/hardnet/raw/master/pretrained/train_liberty_with_aug/checkpoint_liberty_with_aug.pth\" to /root/.cache/torch/hub/checkpoints/checkpoint_liberty_with_aug.pth\n",
            "100% 5.10M/5.10M [00:00<00:00, 87.1MB/s]\n",
            "Downloading (…)ip_pytorch_model.bin: 100% 3.94G/3.94G [00:14<00:00, 273MB/s]\n",
            "Creating invisible watermark encoder (see https://github.com/ShieldMnt/invisible-watermark)...\n",
            "Sampling:   0% 0/3 [00:00<?, ?it/s]\n",
            "data:   0% 0/1 [00:00<?, ?it/s]\u001b[AData shape for DDIM sampling is (3, 4, 96, 96), eta 0.0\n",
            "Running DDIM Sampling with 50 timesteps\n",
            "\n",
            "\n",
            "DDIM Sampler:   0% 0/50 [00:00<?, ?it/s]\u001b[A\u001b[A\n",
            "\n",
            "DDIM Sampler:   2% 1/50 [00:01<01:12,  1.49s/it]\u001b[A\u001b[A\n",
            "\n",
            "DDIM Sampler:   4% 2/50 [00:01<00:43,  1.10it/s]\u001b[A\u001b[A\n",
            "\n",
            "DDIM Sampler:   6% 3/50 [00:02<00:34,  1.37it/s]\u001b[A\u001b[A\n",
            "\n",
            "DDIM Sampler:   8% 4/50 [00:03<00:29,  1.56it/s]\u001b[A\u001b[A\n",
            "\n",
            "DDIM Sampler:  10% 5/50 [00:03<00:26,  1.68it/s]\u001b[A\u001b[A\n",
            "\n",
            "DDIM Sampler:  12% 6/50 [00:04<00:24,  1.77it/s]\u001b[A\u001b[A\n",
            "\n",
            "DDIM Sampler:  14% 7/50 [00:04<00:23,  1.83it/s]\u001b[A\u001b[A\n",
            "\n",
            "DDIM Sampler:  16% 8/50 [00:05<00:22,  1.87it/s]\u001b[A\u001b[A\n",
            "\n",
            "DDIM Sampler:  18% 9/50 [00:05<00:21,  1.89it/s]\u001b[A\u001b[A\n",
            "\n",
            "DDIM Sampler:  20% 10/50 [00:06<00:20,  1.91it/s]\u001b[A\u001b[A\n",
            "\n",
            "DDIM Sampler:  22% 11/50 [00:06<00:20,  1.93it/s]\u001b[A\u001b[A\n",
            "\n",
            "DDIM Sampler:  24% 12/50 [00:07<00:19,  1.94it/s]\u001b[A\u001b[A\n",
            "\n",
            "DDIM Sampler:  26% 13/50 [00:07<00:19,  1.94it/s]\u001b[A\u001b[A\n",
            "\n",
            "DDIM Sampler:  28% 14/50 [00:08<00:18,  1.95it/s]\u001b[A\u001b[A\n",
            "\n",
            "DDIM Sampler:  30% 15/50 [00:08<00:17,  1.95it/s]\u001b[A\u001b[A\n",
            "\n",
            "DDIM Sampler:  32% 16/50 [00:09<00:17,  1.96it/s]\u001b[A\u001b[A\n",
            "\n",
            "DDIM Sampler:  34% 17/50 [00:09<00:16,  1.96it/s]\u001b[A\u001b[A\n",
            "\n",
            "DDIM Sampler:  36% 18/50 [00:10<00:16,  1.96it/s]\u001b[A\u001b[A\n",
            "\n",
            "DDIM Sampler:  38% 19/50 [00:10<00:15,  1.96it/s]\u001b[A\u001b[A\n",
            "\n",
            "DDIM Sampler:  40% 20/50 [00:11<00:15,  1.96it/s]\u001b[A\u001b[A\n",
            "\n",
            "DDIM Sampler:  42% 21/50 [00:11<00:14,  1.96it/s]\u001b[A\u001b[A\n",
            "\n",
            "DDIM Sampler:  44% 22/50 [00:12<00:14,  1.96it/s]\u001b[A\u001b[A\n",
            "\n",
            "DDIM Sampler:  46% 23/50 [00:12<00:13,  1.96it/s]\u001b[A\u001b[A\n",
            "\n",
            "DDIM Sampler:  48% 24/50 [00:13<00:13,  1.96it/s]\u001b[A\u001b[A\n",
            "\n",
            "DDIM Sampler:  50% 25/50 [00:13<00:12,  1.96it/s]\u001b[A\u001b[A\n",
            "\n",
            "DDIM Sampler:  52% 26/50 [00:14<00:12,  1.96it/s]\u001b[A\u001b[A\n",
            "\n",
            "DDIM Sampler:  54% 27/50 [00:14<00:11,  1.97it/s]\u001b[A\u001b[A\n",
            "\n",
            "DDIM Sampler:  56% 28/50 [00:15<00:11,  1.97it/s]\u001b[A\u001b[A\n",
            "\n",
            "DDIM Sampler:  58% 29/50 [00:15<00:10,  1.97it/s]\u001b[A\u001b[A\n",
            "\n",
            "DDIM Sampler:  60% 30/50 [00:16<00:10,  1.97it/s]\u001b[A\u001b[A\n",
            "\n",
            "DDIM Sampler:  62% 31/50 [00:16<00:09,  1.97it/s]\u001b[A\u001b[A\n",
            "\n",
            "DDIM Sampler:  64% 32/50 [00:17<00:09,  1.97it/s]\u001b[A\u001b[A\n",
            "\n",
            "DDIM Sampler:  66% 33/50 [00:17<00:08,  1.97it/s]\u001b[A\u001b[A\n",
            "\n",
            "DDIM Sampler:  68% 34/50 [00:18<00:08,  1.97it/s]\u001b[A\u001b[A\n",
            "\n",
            "DDIM Sampler:  70% 35/50 [00:18<00:07,  1.97it/s]\u001b[A\u001b[A\n",
            "\n",
            "DDIM Sampler:  72% 36/50 [00:19<00:07,  1.97it/s]\u001b[A\u001b[A\n",
            "\n",
            "DDIM Sampler:  74% 37/50 [00:19<00:06,  1.97it/s]\u001b[A\u001b[A\n",
            "\n",
            "DDIM Sampler:  76% 38/50 [00:20<00:06,  1.97it/s]\u001b[A\u001b[A\n",
            "\n",
            "DDIM Sampler:  78% 39/50 [00:20<00:05,  1.97it/s]\u001b[A\u001b[A\n",
            "\n",
            "DDIM Sampler:  80% 40/50 [00:21<00:05,  1.97it/s]\u001b[A\u001b[A\n",
            "\n",
            "DDIM Sampler:  82% 41/50 [00:21<00:04,  1.97it/s]\u001b[A\u001b[A\n",
            "\n",
            "DDIM Sampler:  84% 42/50 [00:22<00:04,  1.97it/s]\u001b[A\u001b[A\n",
            "\n",
            "DDIM Sampler:  86% 43/50 [00:22<00:03,  1.97it/s]\u001b[A\u001b[A\n",
            "\n",
            "DDIM Sampler:  88% 44/50 [00:23<00:03,  1.97it/s]\u001b[A\u001b[A\n",
            "\n",
            "DDIM Sampler:  90% 45/50 [00:23<00:02,  1.97it/s]\u001b[A\u001b[A\n",
            "\n",
            "DDIM Sampler:  92% 46/50 [00:24<00:02,  1.97it/s]\u001b[A\u001b[A\n",
            "\n",
            "DDIM Sampler:  94% 47/50 [00:24<00:01,  1.97it/s]\u001b[A\u001b[A\n",
            "\n",
            "DDIM Sampler:  96% 48/50 [00:25<00:01,  1.97it/s]\u001b[A\u001b[A\n",
            "\n",
            "DDIM Sampler:  98% 49/50 [00:25<00:00,  1.97it/s]\u001b[A\u001b[A\n",
            "\n",
            "DDIM Sampler: 100% 50/50 [00:26<00:00,  1.89it/s]\n",
            "\n",
            "data: 100% 1/1 [00:28<00:00, 28.52s/it]\n",
            "Sampling:  33% 1/3 [00:28<00:57, 28.52s/it]\n",
            "data:   0% 0/1 [00:00<?, ?it/s]\u001b[AData shape for DDIM sampling is (3, 4, 96, 96), eta 0.0\n",
            "Running DDIM Sampling with 50 timesteps\n",
            "\n",
            "\n",
            "DDIM Sampler:   0% 0/50 [00:00<?, ?it/s]\u001b[A\u001b[A\n",
            "\n",
            "DDIM Sampler:   2% 1/50 [00:00<00:24,  1.96it/s]\u001b[A\u001b[A\n",
            "\n",
            "DDIM Sampler:   4% 2/50 [00:01<00:24,  1.96it/s]\u001b[A\u001b[A\n",
            "\n",
            "DDIM Sampler:   6% 3/50 [00:01<00:23,  1.96it/s]\u001b[A\u001b[A\n",
            "\n",
            "DDIM Sampler:   8% 4/50 [00:02<00:23,  1.96it/s]\u001b[A\u001b[A\n",
            "\n",
            "DDIM Sampler:  10% 5/50 [00:02<00:22,  1.96it/s]\u001b[A\u001b[A\n",
            "\n",
            "DDIM Sampler:  12% 6/50 [00:03<00:22,  1.96it/s]\u001b[A\u001b[A\n",
            "\n",
            "DDIM Sampler:  14% 7/50 [00:03<00:21,  1.96it/s]\u001b[A\u001b[A\n",
            "\n",
            "DDIM Sampler:  16% 8/50 [00:04<00:21,  1.96it/s]\u001b[A\u001b[A\n",
            "\n",
            "DDIM Sampler:  18% 9/50 [00:04<00:20,  1.96it/s]\u001b[A\u001b[A\n",
            "\n",
            "DDIM Sampler:  20% 10/50 [00:05<00:20,  1.96it/s]\u001b[A\u001b[A\n",
            "\n",
            "DDIM Sampler:  22% 11/50 [00:05<00:19,  1.96it/s]\u001b[A\u001b[A\n",
            "\n",
            "DDIM Sampler:  24% 12/50 [00:06<00:19,  1.96it/s]\u001b[A\u001b[A\n",
            "\n",
            "DDIM Sampler:  26% 13/50 [00:06<00:18,  1.96it/s]\u001b[A\u001b[A\n",
            "\n",
            "DDIM Sampler:  28% 14/50 [00:07<00:18,  1.96it/s]\u001b[A\u001b[A\n",
            "\n",
            "DDIM Sampler:  30% 15/50 [00:07<00:17,  1.96it/s]\u001b[A\u001b[A\n",
            "\n",
            "DDIM Sampler:  32% 16/50 [00:08<00:17,  1.96it/s]\u001b[A\u001b[A\n",
            "\n",
            "DDIM Sampler:  34% 17/50 [00:08<00:16,  1.96it/s]\u001b[A\u001b[A\n",
            "\n",
            "DDIM Sampler:  36% 18/50 [00:09<00:16,  1.96it/s]\u001b[A\u001b[A\n",
            "\n",
            "DDIM Sampler:  38% 19/50 [00:09<00:15,  1.96it/s]\u001b[A\u001b[A\n",
            "\n",
            "DDIM Sampler:  40% 20/50 [00:10<00:15,  1.96it/s]\u001b[A\u001b[A\n",
            "\n",
            "DDIM Sampler:  42% 21/50 [00:10<00:14,  1.96it/s]\u001b[A\u001b[A\n",
            "\n",
            "DDIM Sampler:  44% 22/50 [00:11<00:14,  1.96it/s]\u001b[A\u001b[A\n",
            "\n",
            "DDIM Sampler:  46% 23/50 [00:11<00:13,  1.96it/s]\u001b[A\u001b[A\n",
            "\n",
            "DDIM Sampler:  48% 24/50 [00:12<00:13,  1.96it/s]\u001b[A\u001b[A\n",
            "\n",
            "DDIM Sampler:  50% 25/50 [00:12<00:12,  1.96it/s]\u001b[A\u001b[A\n",
            "\n",
            "DDIM Sampler:  52% 26/50 [00:13<00:12,  1.96it/s]\u001b[A\u001b[A\n",
            "\n",
            "DDIM Sampler:  54% 27/50 [00:13<00:11,  1.96it/s]\u001b[A\u001b[A\n",
            "\n",
            "DDIM Sampler:  56% 28/50 [00:14<00:11,  1.96it/s]\u001b[A\u001b[A\n",
            "\n",
            "DDIM Sampler:  58% 29/50 [00:14<00:10,  1.96it/s]\u001b[A\u001b[A\n",
            "\n",
            "DDIM Sampler:  60% 30/50 [00:15<00:10,  1.96it/s]\u001b[A\u001b[A\n",
            "\n",
            "DDIM Sampler:  62% 31/50 [00:15<00:09,  1.96it/s]\u001b[A\u001b[A\n",
            "\n",
            "DDIM Sampler:  64% 32/50 [00:16<00:09,  1.96it/s]\u001b[A\u001b[A\n",
            "\n",
            "DDIM Sampler:  66% 33/50 [00:16<00:08,  1.96it/s]\u001b[A\u001b[A\n",
            "\n",
            "DDIM Sampler:  68% 34/50 [00:17<00:08,  1.96it/s]\u001b[A\u001b[A\n",
            "\n",
            "DDIM Sampler:  70% 35/50 [00:17<00:07,  1.96it/s]\u001b[A\u001b[A\n",
            "\n",
            "DDIM Sampler:  72% 36/50 [00:18<00:07,  1.96it/s]\u001b[A\u001b[A\n",
            "\n",
            "DDIM Sampler:  74% 37/50 [00:18<00:06,  1.96it/s]\u001b[A\u001b[A\n",
            "\n",
            "DDIM Sampler:  76% 38/50 [00:19<00:06,  1.96it/s]\u001b[A\u001b[A\n",
            "\n",
            "DDIM Sampler:  78% 39/50 [00:19<00:05,  1.96it/s]\u001b[A\u001b[A\n",
            "\n",
            "DDIM Sampler:  80% 40/50 [00:20<00:05,  1.96it/s]\u001b[A\u001b[A\n",
            "\n",
            "DDIM Sampler:  82% 41/50 [00:20<00:04,  1.96it/s]\u001b[A\u001b[A\n",
            "\n",
            "DDIM Sampler:  84% 42/50 [00:21<00:04,  1.96it/s]\u001b[A\u001b[A\n",
            "\n",
            "DDIM Sampler:  86% 43/50 [00:21<00:03,  1.96it/s]\u001b[A\u001b[A\n",
            "\n",
            "DDIM Sampler:  88% 44/50 [00:22<00:03,  1.96it/s]\u001b[A\u001b[A\n",
            "\n",
            "DDIM Sampler:  90% 45/50 [00:22<00:02,  1.96it/s]\u001b[A\u001b[A\n",
            "\n",
            "DDIM Sampler:  92% 46/50 [00:23<00:02,  1.96it/s]\u001b[A\u001b[A\n",
            "\n",
            "DDIM Sampler:  94% 47/50 [00:23<00:01,  1.96it/s]\u001b[A\u001b[A\n",
            "\n",
            "DDIM Sampler:  96% 48/50 [00:24<00:01,  1.97it/s]\u001b[A\u001b[A\n",
            "\n",
            "DDIM Sampler:  98% 49/50 [00:24<00:00,  1.97it/s]\u001b[A\u001b[A\n",
            "\n",
            "DDIM Sampler: 100% 50/50 [00:25<00:00,  1.96it/s]\n",
            "\n",
            "data: 100% 1/1 [00:27<00:00, 27.12s/it]\n",
            "Sampling:  67% 2/3 [00:55<00:27, 27.70s/it]\n",
            "data:   0% 0/1 [00:00<?, ?it/s]\u001b[AData shape for DDIM sampling is (3, 4, 96, 96), eta 0.0\n",
            "Running DDIM Sampling with 50 timesteps\n",
            "\n",
            "\n",
            "DDIM Sampler:   0% 0/50 [00:00<?, ?it/s]\u001b[A\u001b[A\n",
            "\n",
            "DDIM Sampler:   2% 1/50 [00:00<00:24,  1.96it/s]\u001b[A\u001b[A\n",
            "\n",
            "DDIM Sampler:   4% 2/50 [00:01<00:24,  1.96it/s]\u001b[A\u001b[A\n",
            "\n",
            "DDIM Sampler:   6% 3/50 [00:01<00:23,  1.96it/s]\u001b[A\u001b[A\n",
            "\n",
            "DDIM Sampler:   8% 4/50 [00:02<00:23,  1.96it/s]\u001b[A\u001b[A\n",
            "\n",
            "DDIM Sampler:  10% 5/50 [00:02<00:22,  1.96it/s]\u001b[A\u001b[A\n",
            "\n",
            "DDIM Sampler:  12% 6/50 [00:03<00:22,  1.96it/s]\u001b[A\u001b[A\n",
            "\n",
            "DDIM Sampler:  14% 7/50 [00:03<00:21,  1.96it/s]\u001b[A\u001b[A\n",
            "\n",
            "DDIM Sampler:  16% 8/50 [00:04<00:21,  1.96it/s]\u001b[A\u001b[A\n",
            "\n",
            "DDIM Sampler:  18% 9/50 [00:04<00:20,  1.96it/s]\u001b[A\u001b[A\n",
            "\n",
            "DDIM Sampler:  20% 10/50 [00:05<00:20,  1.96it/s]\u001b[A\u001b[A\n",
            "\n",
            "DDIM Sampler:  22% 11/50 [00:05<00:19,  1.96it/s]\u001b[A\u001b[A\n",
            "\n",
            "DDIM Sampler:  24% 12/50 [00:06<00:19,  1.96it/s]\u001b[A\u001b[A\n",
            "\n",
            "DDIM Sampler:  26% 13/50 [00:06<00:18,  1.96it/s]\u001b[A\u001b[A\n",
            "\n",
            "DDIM Sampler:  28% 14/50 [00:07<00:18,  1.96it/s]\u001b[A\u001b[A\n",
            "\n",
            "DDIM Sampler:  30% 15/50 [00:07<00:17,  1.96it/s]\u001b[A\u001b[A\n",
            "\n",
            "DDIM Sampler:  32% 16/50 [00:08<00:17,  1.96it/s]\u001b[A\u001b[A\n",
            "\n",
            "DDIM Sampler:  34% 17/50 [00:08<00:16,  1.96it/s]\u001b[A\u001b[A\n",
            "\n",
            "DDIM Sampler:  36% 18/50 [00:09<00:16,  1.96it/s]\u001b[A\u001b[A\n",
            "\n",
            "DDIM Sampler:  38% 19/50 [00:09<00:15,  1.96it/s]\u001b[A\u001b[A\n",
            "\n",
            "DDIM Sampler:  40% 20/50 [00:10<00:15,  1.96it/s]\u001b[A\u001b[A\n",
            "\n",
            "DDIM Sampler:  42% 21/50 [00:10<00:14,  1.96it/s]\u001b[A\u001b[A\n",
            "\n",
            "DDIM Sampler:  44% 22/50 [00:11<00:14,  1.96it/s]\u001b[A\u001b[A\n",
            "\n",
            "DDIM Sampler:  46% 23/50 [00:11<00:13,  1.96it/s]\u001b[A\u001b[A\n",
            "\n",
            "DDIM Sampler:  48% 24/50 [00:12<00:13,  1.96it/s]\u001b[A\u001b[A\n",
            "\n",
            "DDIM Sampler:  50% 25/50 [00:12<00:12,  1.96it/s]\u001b[A\u001b[A\n",
            "\n",
            "DDIM Sampler:  52% 26/50 [00:13<00:12,  1.96it/s]\u001b[A\u001b[A\n",
            "\n",
            "DDIM Sampler:  54% 27/50 [00:13<00:11,  1.96it/s]\u001b[A\u001b[A\n",
            "\n",
            "DDIM Sampler:  56% 28/50 [00:14<00:11,  1.96it/s]\u001b[A\u001b[A\n",
            "\n",
            "DDIM Sampler:  58% 29/50 [00:14<00:10,  1.96it/s]\u001b[A\u001b[A\n",
            "\n",
            "DDIM Sampler:  60% 30/50 [00:15<00:10,  1.97it/s]\u001b[A\u001b[A\n",
            "\n",
            "DDIM Sampler:  62% 31/50 [00:15<00:09,  1.97it/s]\u001b[A\u001b[A\n",
            "\n",
            "DDIM Sampler:  64% 32/50 [00:16<00:09,  1.97it/s]\u001b[A\u001b[A\n",
            "\n",
            "DDIM Sampler:  66% 33/50 [00:16<00:08,  1.97it/s]\u001b[A\u001b[A\n",
            "\n",
            "DDIM Sampler:  68% 34/50 [00:17<00:08,  1.97it/s]\u001b[A\u001b[A\n",
            "\n",
            "DDIM Sampler:  70% 35/50 [00:17<00:07,  1.97it/s]\u001b[A\u001b[A\n",
            "\n",
            "DDIM Sampler:  72% 36/50 [00:18<00:07,  1.97it/s]\u001b[A\u001b[A\n",
            "\n",
            "DDIM Sampler:  74% 37/50 [00:18<00:06,  1.97it/s]\u001b[A\u001b[A\n",
            "\n",
            "DDIM Sampler:  76% 38/50 [00:19<00:06,  1.97it/s]\u001b[A\u001b[A\n",
            "\n",
            "DDIM Sampler:  78% 39/50 [00:19<00:05,  1.97it/s]\u001b[A\u001b[A\n",
            "\n",
            "DDIM Sampler:  80% 40/50 [00:20<00:05,  1.96it/s]\u001b[A\u001b[A\n",
            "\n",
            "DDIM Sampler:  82% 41/50 [00:20<00:04,  1.96it/s]\u001b[A\u001b[A\n",
            "\n",
            "DDIM Sampler:  84% 42/50 [00:21<00:04,  1.96it/s]\u001b[A\u001b[A\n",
            "\n",
            "DDIM Sampler:  86% 43/50 [00:21<00:03,  1.96it/s]\u001b[A\u001b[A\n",
            "\n",
            "DDIM Sampler:  88% 44/50 [00:22<00:03,  1.96it/s]\u001b[A\u001b[A\n",
            "\n",
            "DDIM Sampler:  90% 45/50 [00:22<00:02,  1.96it/s]\u001b[A\u001b[A\n",
            "\n",
            "DDIM Sampler:  92% 46/50 [00:23<00:02,  1.96it/s]\u001b[A\u001b[A\n",
            "\n",
            "DDIM Sampler:  94% 47/50 [00:23<00:01,  1.96it/s]\u001b[A\u001b[A\n",
            "\n",
            "DDIM Sampler:  96% 48/50 [00:24<00:01,  1.97it/s]\u001b[A\u001b[A\n",
            "\n",
            "DDIM Sampler:  98% 49/50 [00:24<00:00,  1.97it/s]\u001b[A\u001b[A\n",
            "\n",
            "DDIM Sampler: 100% 50/50 [00:25<00:00,  1.96it/s]\n",
            "\n",
            "data: 100% 1/1 [00:27<00:00, 27.08s/it]\n",
            "Sampling: 100% 3/3 [01:22<00:00, 27.58s/it]\n",
            "Your samples are ready and waiting for you here: \n",
            "outputs/txt2img-samples \n",
            " \n",
            "Enjoy.\n"
          ]
        }
      ],
      "source": [
        "!python scripts/txt2img.py --prompt \"a professional photograph of an astronaut riding a horse\" --ckpt v2-1_768-ema-pruned.ckpt --config configs/stable-diffusion/v2-inference-v.yaml --H 768 --W 768 --device cuda\n",
        "\n"
      ]
    },
    {
      "cell_type": "markdown",
      "metadata": {
        "id": "xs32eBMdsQcY"
      },
      "source": [
        "# Step 5. Visualize your generated images"
      ]
    },
    {
      "cell_type": "code",
      "execution_count": null,
      "metadata": {
        "colab": {
          "base_uri": "https://localhost:8080/"
        },
        "id": "ITcyzh9jlMQP",
        "outputId": "a25ba5ba-1e02-48b0-8e15-d7e9451a91f0"
      },
      "outputs": [
        {
          "name": "stdout",
          "output_type": "stream",
          "text": [
            "Requirement already satisfied: Pillow in /usr/local/lib/python3.10/dist-packages (8.4.0)\n"
          ]
        }
      ],
      "source": [
        "!pip install Pillow"
      ]
    },
    {
      "cell_type": "code",
      "execution_count": null,
      "metadata": {
        "colab": {
          "base_uri": "https://localhost:8080/"
        },
        "id": "mMfko5n5sZax",
        "outputId": "5ef4ea8f-a765-4f5f-d7b0-8d94de0052c8"
      },
      "outputs": [
        {
          "name": "stdout",
          "output_type": "stream",
          "text": [
            "grid-0000.png  samples\n"
          ]
        }
      ],
      "source": [
        "!ls outputs/txt2img-samples\n"
      ]
    },
    {
      "cell_type": "code",
      "execution_count": 8,
      "metadata": {
        "colab": {
          "base_uri": "https://localhost:8080/",
          "height": 329
        },
        "id": "xOeJQekiVBB2",
        "outputId": "f62792ee-44ee-4b4a-a7d6-1c0d4503b9d5"
      },
      "outputs": [
        {
          "output_type": "error",
          "ename": "FileNotFoundError",
          "evalue": "ignored",
          "traceback": [
            "\u001b[0;31m---------------------------------------------------------------------------\u001b[0m",
            "\u001b[0;31mFileNotFoundError\u001b[0m                         Traceback (most recent call last)",
            "\u001b[0;32m<ipython-input-8-f705666a5e25>\u001b[0m in \u001b[0;36m<cell line: 2>\u001b[0;34m()\u001b[0m\n\u001b[1;32m      1\u001b[0m \u001b[0;32mfrom\u001b[0m \u001b[0mPIL\u001b[0m \u001b[0;32mimport\u001b[0m \u001b[0mImage\u001b[0m\u001b[0;34m\u001b[0m\u001b[0;34m\u001b[0m\u001b[0m\n\u001b[0;32m----> 2\u001b[0;31m \u001b[0mim\u001b[0m \u001b[0;34m=\u001b[0m \u001b[0mImage\u001b[0m\u001b[0;34m.\u001b[0m\u001b[0mopen\u001b[0m\u001b[0;34m(\u001b[0m\u001b[0;34m\"outputs/txt2img-samples/grid-0000.png\"\u001b[0m\u001b[0;34m)\u001b[0m\u001b[0;34m\u001b[0m\u001b[0;34m\u001b[0m\u001b[0m\n\u001b[0m\u001b[1;32m      3\u001b[0m \u001b[0mim\u001b[0m\u001b[0;34m.\u001b[0m\u001b[0mshow\u001b[0m\u001b[0;34m(\u001b[0m\u001b[0;34m)\u001b[0m\u001b[0;34m\u001b[0m\u001b[0;34m\u001b[0m\u001b[0m\n",
            "\u001b[0;32m/usr/local/lib/python3.10/dist-packages/PIL/Image.py\u001b[0m in \u001b[0;36mopen\u001b[0;34m(fp, mode, formats)\u001b[0m\n\u001b[1;32m   2973\u001b[0m \u001b[0;34m\u001b[0m\u001b[0m\n\u001b[1;32m   2974\u001b[0m     \u001b[0;32mif\u001b[0m \u001b[0mfilename\u001b[0m\u001b[0;34m:\u001b[0m\u001b[0;34m\u001b[0m\u001b[0;34m\u001b[0m\u001b[0m\n\u001b[0;32m-> 2975\u001b[0;31m         \u001b[0mfp\u001b[0m \u001b[0;34m=\u001b[0m \u001b[0mbuiltins\u001b[0m\u001b[0;34m.\u001b[0m\u001b[0mopen\u001b[0m\u001b[0;34m(\u001b[0m\u001b[0mfilename\u001b[0m\u001b[0;34m,\u001b[0m \u001b[0;34m\"rb\"\u001b[0m\u001b[0;34m)\u001b[0m\u001b[0;34m\u001b[0m\u001b[0;34m\u001b[0m\u001b[0m\n\u001b[0m\u001b[1;32m   2976\u001b[0m         \u001b[0mexclusive_fp\u001b[0m \u001b[0;34m=\u001b[0m \u001b[0;32mTrue\u001b[0m\u001b[0;34m\u001b[0m\u001b[0;34m\u001b[0m\u001b[0m\n\u001b[1;32m   2977\u001b[0m \u001b[0;34m\u001b[0m\u001b[0m\n",
            "\u001b[0;31mFileNotFoundError\u001b[0m: [Errno 2] No such file or directory: 'outputs/txt2img-samples/grid-0000.png'"
          ]
        }
      ],
      "source": [
        "from PIL import Image\n",
        "im = Image.open(\"outputs/txt2img-samples/grid-0000.png\")\n",
        "im.show()"
      ]
    },
    {
      "cell_type": "code",
      "source": [],
      "metadata": {
        "id": "ec-2cg6kmqQ-"
      },
      "execution_count": null,
      "outputs": []
    }
  ],
  "metadata": {
    "accelerator": "GPU",
    "colab": {
      "machine_shape": "hm",
      "provenance": [],
      "gpuType": "A100"
    },
    "kernelspec": {
      "display_name": "Python 3",
      "name": "python3"
    },
    "language_info": {
      "name": "python"
    }
  },
  "nbformat": 4,
  "nbformat_minor": 0
}